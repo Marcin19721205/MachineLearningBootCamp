{
  "nbformat": 4,
  "nbformat_minor": 0,
  "metadata": {
    "colab": {
      "name": "04_backward_elimination.ipynb",
      "provenance": [],
      "include_colab_link": true
    },
    "kernelspec": {
      "name": "python3",
      "display_name": "Python 3"
    }
  },
  "cells": [
    {
      "cell_type": "markdown",
      "metadata": {
        "id": "view-in-github",
        "colab_type": "text"
      },
      "source": [
        "<a href=\"https://colab.research.google.com/github/Marcin19721205/MachineLearningBootCamp/blob/main/08_backward_elimination01MJ.ipynb\" target=\"_parent\"><img src=\"https://colab.research.google.com/assets/colab-badge.svg\" alt=\"Open In Colab\"/></a>"
      ]
    },
    {
      "cell_type": "markdown",
      "metadata": {
        "id": "no0pYXBypwve"
      },
      "source": [
        "### scikit-learn\n",
        "Strona biblioteki: [https://scikit-learn.org](https://scikit-learn.org)  \n",
        "\n",
        "Dokumentacja/User Guide: [https://scikit-learn.org/stable/user_guide.html](https://scikit-learn.org/stable/user_guide.html)\n",
        "\n",
        "Podstawowa biblioteka do uczenia maszynowego w języku Python.\n",
        "\n",
        "Aby zainstalować bibliotekę scikit-learn, użyj polecenia poniżej:\n",
        "```\n",
        "!pip install scikit-learn\n",
        "```\n",
        "Aby zaktualizować do najnowszej wersji bibliotekę scikit-learn, użyj polecenia poniżej:\n",
        "```\n",
        "!pip install --upgrade scikit-learn\n",
        "```\n",
        "Kurs stworzony w oparciu o wersję `0.22.1`\n",
        "\n",
        "### Spis treści:\n",
        "1. [Import bibliotek](#0)\n",
        "2. [Wczytanie danych](#1)\n",
        "3. [Utworzenie kopii danych](#2)\n",
        "4. [Eksplorcja i wstępne przygotowanie danych](#3)\n",
        "5. [Podział danych na zbiór treningowy i testowy](#4)\n",
        "6. [Regresja liniowa](#5)\n",
        "7. [Dobór cech modelu - eliminacja wsteczna](#6)\n",
        "8. [Eliminacja wsteczna - automatyzacja](#7)\n",
        "9. [Zapisanie końcowego modelu](#8)\n",
        "\n",
        "\n"
      ]
    },
    {
      "cell_type": "markdown",
      "metadata": {
        "id": "BtFFcQ3_p0Kv"
      },
      "source": [
        "### <a name='0'></a> Import bibliotek"
      ]
    },
    {
      "cell_type": "code",
      "metadata": {
        "id": "VQ0ieU0UdN5D",
        "outputId": "a730ddc5-8b89-4b28-eaa0-6d3996cb7c41",
        "colab": {
          "base_uri": "https://localhost:8080/",
          "height": 35
        }
      },
      "source": [
        "import numpy as np\n",
        "import pandas as pd\n",
        "import matplotlib.pyplot as plt\n",
        "import seaborn as sns\n",
        "import sklearn\n",
        "\n",
        "sns.set()\n",
        "np.random.seed(42)\n",
        "np.set_printoptions(precision=4, suppress=True)\n",
        "sklearn.__version__"
      ],
      "execution_count": 1,
      "outputs": [
        {
          "output_type": "execute_result",
          "data": {
            "text/plain": [
              "'1.6.1'"
            ],
            "application/vnd.google.colaboratory.intrinsic+json": {
              "type": "string"
            }
          },
          "metadata": {},
          "execution_count": 1
        }
      ]
    },
    {
      "cell_type": "markdown",
      "source": [
        "pierwsza metoda wczytania pliku - colab"
      ],
      "metadata": {
        "id": "pk5UiQSt3XZ9"
      }
    },
    {
      "cell_type": "code",
      "source": [
        "from google.colab import files\n",
        "import pandas as pd\n",
        "\n",
        "# Wybierasz plik z komputera (pojawi się okno wyboru)\n",
        "uploaded = files.upload()\n",
        "\n",
        "# Zakładamy, że wgrałeś plik insurance.csv\n",
        "#df = pd.read_csv('insurance.csv', sep='\\t')   # <-- plik oddzielany tabulatorem\n",
        "df = pd.read_csv('insurance.csv', sep=',')   # <-- plik oddzielany przecinkiem\n",
        "print(\"✅ Dane wczytane poprawnie!\\n\")\n",
        "print(df.head())"
      ],
      "metadata": {
        "id": "Rm_fpXa82o86",
        "outputId": "7d445f05-56f4-4766-c31c-222d33238d16",
        "colab": {
          "base_uri": "https://localhost:8080/",
          "height": 212
        }
      },
      "execution_count": 6,
      "outputs": [
        {
          "output_type": "display_data",
          "data": {
            "text/plain": [
              "<IPython.core.display.HTML object>"
            ],
            "text/html": [
              "\n",
              "     <input type=\"file\" id=\"files-71c2b988-2116-4b9d-9453-f23360d725fa\" name=\"files[]\" multiple disabled\n",
              "        style=\"border:none\" />\n",
              "     <output id=\"result-71c2b988-2116-4b9d-9453-f23360d725fa\">\n",
              "      Upload widget is only available when the cell has been executed in the\n",
              "      current browser session. Please rerun this cell to enable.\n",
              "      </output>\n",
              "      <script>// Copyright 2017 Google LLC\n",
              "//\n",
              "// Licensed under the Apache License, Version 2.0 (the \"License\");\n",
              "// you may not use this file except in compliance with the License.\n",
              "// You may obtain a copy of the License at\n",
              "//\n",
              "//      http://www.apache.org/licenses/LICENSE-2.0\n",
              "//\n",
              "// Unless required by applicable law or agreed to in writing, software\n",
              "// distributed under the License is distributed on an \"AS IS\" BASIS,\n",
              "// WITHOUT WARRANTIES OR CONDITIONS OF ANY KIND, either express or implied.\n",
              "// See the License for the specific language governing permissions and\n",
              "// limitations under the License.\n",
              "\n",
              "/**\n",
              " * @fileoverview Helpers for google.colab Python module.\n",
              " */\n",
              "(function(scope) {\n",
              "function span(text, styleAttributes = {}) {\n",
              "  const element = document.createElement('span');\n",
              "  element.textContent = text;\n",
              "  for (const key of Object.keys(styleAttributes)) {\n",
              "    element.style[key] = styleAttributes[key];\n",
              "  }\n",
              "  return element;\n",
              "}\n",
              "\n",
              "// Max number of bytes which will be uploaded at a time.\n",
              "const MAX_PAYLOAD_SIZE = 100 * 1024;\n",
              "\n",
              "function _uploadFiles(inputId, outputId) {\n",
              "  const steps = uploadFilesStep(inputId, outputId);\n",
              "  const outputElement = document.getElementById(outputId);\n",
              "  // Cache steps on the outputElement to make it available for the next call\n",
              "  // to uploadFilesContinue from Python.\n",
              "  outputElement.steps = steps;\n",
              "\n",
              "  return _uploadFilesContinue(outputId);\n",
              "}\n",
              "\n",
              "// This is roughly an async generator (not supported in the browser yet),\n",
              "// where there are multiple asynchronous steps and the Python side is going\n",
              "// to poll for completion of each step.\n",
              "// This uses a Promise to block the python side on completion of each step,\n",
              "// then passes the result of the previous step as the input to the next step.\n",
              "function _uploadFilesContinue(outputId) {\n",
              "  const outputElement = document.getElementById(outputId);\n",
              "  const steps = outputElement.steps;\n",
              "\n",
              "  const next = steps.next(outputElement.lastPromiseValue);\n",
              "  return Promise.resolve(next.value.promise).then((value) => {\n",
              "    // Cache the last promise value to make it available to the next\n",
              "    // step of the generator.\n",
              "    outputElement.lastPromiseValue = value;\n",
              "    return next.value.response;\n",
              "  });\n",
              "}\n",
              "\n",
              "/**\n",
              " * Generator function which is called between each async step of the upload\n",
              " * process.\n",
              " * @param {string} inputId Element ID of the input file picker element.\n",
              " * @param {string} outputId Element ID of the output display.\n",
              " * @return {!Iterable<!Object>} Iterable of next steps.\n",
              " */\n",
              "function* uploadFilesStep(inputId, outputId) {\n",
              "  const inputElement = document.getElementById(inputId);\n",
              "  inputElement.disabled = false;\n",
              "\n",
              "  const outputElement = document.getElementById(outputId);\n",
              "  outputElement.innerHTML = '';\n",
              "\n",
              "  const pickedPromise = new Promise((resolve) => {\n",
              "    inputElement.addEventListener('change', (e) => {\n",
              "      resolve(e.target.files);\n",
              "    });\n",
              "  });\n",
              "\n",
              "  const cancel = document.createElement('button');\n",
              "  inputElement.parentElement.appendChild(cancel);\n",
              "  cancel.textContent = 'Cancel upload';\n",
              "  const cancelPromise = new Promise((resolve) => {\n",
              "    cancel.onclick = () => {\n",
              "      resolve(null);\n",
              "    };\n",
              "  });\n",
              "\n",
              "  // Wait for the user to pick the files.\n",
              "  const files = yield {\n",
              "    promise: Promise.race([pickedPromise, cancelPromise]),\n",
              "    response: {\n",
              "      action: 'starting',\n",
              "    }\n",
              "  };\n",
              "\n",
              "  cancel.remove();\n",
              "\n",
              "  // Disable the input element since further picks are not allowed.\n",
              "  inputElement.disabled = true;\n",
              "\n",
              "  if (!files) {\n",
              "    return {\n",
              "      response: {\n",
              "        action: 'complete',\n",
              "      }\n",
              "    };\n",
              "  }\n",
              "\n",
              "  for (const file of files) {\n",
              "    const li = document.createElement('li');\n",
              "    li.append(span(file.name, {fontWeight: 'bold'}));\n",
              "    li.append(span(\n",
              "        `(${file.type || 'n/a'}) - ${file.size} bytes, ` +\n",
              "        `last modified: ${\n",
              "            file.lastModifiedDate ? file.lastModifiedDate.toLocaleDateString() :\n",
              "                                    'n/a'} - `));\n",
              "    const percent = span('0% done');\n",
              "    li.appendChild(percent);\n",
              "\n",
              "    outputElement.appendChild(li);\n",
              "\n",
              "    const fileDataPromise = new Promise((resolve) => {\n",
              "      const reader = new FileReader();\n",
              "      reader.onload = (e) => {\n",
              "        resolve(e.target.result);\n",
              "      };\n",
              "      reader.readAsArrayBuffer(file);\n",
              "    });\n",
              "    // Wait for the data to be ready.\n",
              "    let fileData = yield {\n",
              "      promise: fileDataPromise,\n",
              "      response: {\n",
              "        action: 'continue',\n",
              "      }\n",
              "    };\n",
              "\n",
              "    // Use a chunked sending to avoid message size limits. See b/62115660.\n",
              "    let position = 0;\n",
              "    do {\n",
              "      const length = Math.min(fileData.byteLength - position, MAX_PAYLOAD_SIZE);\n",
              "      const chunk = new Uint8Array(fileData, position, length);\n",
              "      position += length;\n",
              "\n",
              "      const base64 = btoa(String.fromCharCode.apply(null, chunk));\n",
              "      yield {\n",
              "        response: {\n",
              "          action: 'append',\n",
              "          file: file.name,\n",
              "          data: base64,\n",
              "        },\n",
              "      };\n",
              "\n",
              "      let percentDone = fileData.byteLength === 0 ?\n",
              "          100 :\n",
              "          Math.round((position / fileData.byteLength) * 100);\n",
              "      percent.textContent = `${percentDone}% done`;\n",
              "\n",
              "    } while (position < fileData.byteLength);\n",
              "  }\n",
              "\n",
              "  // All done.\n",
              "  yield {\n",
              "    response: {\n",
              "      action: 'complete',\n",
              "    }\n",
              "  };\n",
              "}\n",
              "\n",
              "scope.google = scope.google || {};\n",
              "scope.google.colab = scope.google.colab || {};\n",
              "scope.google.colab._files = {\n",
              "  _uploadFiles,\n",
              "  _uploadFilesContinue,\n",
              "};\n",
              "})(self);\n",
              "</script> "
            ]
          },
          "metadata": {}
        },
        {
          "output_type": "stream",
          "name": "stdout",
          "text": [
            "Saving insurance.csv to insurance (1).csv\n",
            "✅ Dane wczytane poprawnie!\n",
            "\n",
            "   age     sex     bmi  children smoker     region      charges\n",
            "0   19  female  27.900         0    yes  southwest  16884.92400\n",
            "1   18    male  33.770         1     no  southeast   1725.55230\n",
            "2   28    male  33.000         3     no  southeast   4449.46200\n",
            "3   33    male  22.705         0     no  northwest  21984.47061\n",
            "4   32    male  28.880         0     no  northwest   3866.85520\n"
          ]
        }
      ]
    },
    {
      "cell_type": "markdown",
      "metadata": {
        "id": "_hNX_yS6p8EN"
      },
      "source": [
        "### <a name='1'></a> Wczytanie danych"
      ]
    },
    {
      "cell_type": "markdown",
      "source": [
        "1338 rekordów"
      ],
      "metadata": {
        "id": "EWKVJslQ1XEW"
      }
    },
    {
      "cell_type": "markdown",
      "source": [
        "wczytanie z http"
      ],
      "metadata": {
        "id": "pd_mLgOc3cT6"
      }
    },
    {
      "cell_type": "code",
      "metadata": {
        "id": "UDbWnF8rdceb",
        "outputId": "e260a8b0-c75e-45a3-ba89-6580695c14c7",
        "colab": {
          "base_uri": "https://localhost:8080/",
          "height": 206
        }
      },
      "source": [
        "df_raw = pd.read_csv('https://storage.googleapis.com/esmartdata-courses-files/ml-course/insurance.csv')\n",
        "df_raw.head()"
      ],
      "execution_count": 7,
      "outputs": [
        {
          "output_type": "execute_result",
          "data": {
            "text/plain": [
              "   age     sex     bmi  children smoker     region      charges\n",
              "0   19  female  27.900         0    yes  southwest  16884.92400\n",
              "1   18    male  33.770         1     no  southeast   1725.55230\n",
              "2   28    male  33.000         3     no  southeast   4449.46200\n",
              "3   33    male  22.705         0     no  northwest  21984.47061\n",
              "4   32    male  28.880         0     no  northwest   3866.85520"
            ],
            "text/html": [
              "\n",
              "  <div id=\"df-e94a3ada-71a2-4791-aef4-d97d33d0ddfe\" class=\"colab-df-container\">\n",
              "    <div>\n",
              "<style scoped>\n",
              "    .dataframe tbody tr th:only-of-type {\n",
              "        vertical-align: middle;\n",
              "    }\n",
              "\n",
              "    .dataframe tbody tr th {\n",
              "        vertical-align: top;\n",
              "    }\n",
              "\n",
              "    .dataframe thead th {\n",
              "        text-align: right;\n",
              "    }\n",
              "</style>\n",
              "<table border=\"1\" class=\"dataframe\">\n",
              "  <thead>\n",
              "    <tr style=\"text-align: right;\">\n",
              "      <th></th>\n",
              "      <th>age</th>\n",
              "      <th>sex</th>\n",
              "      <th>bmi</th>\n",
              "      <th>children</th>\n",
              "      <th>smoker</th>\n",
              "      <th>region</th>\n",
              "      <th>charges</th>\n",
              "    </tr>\n",
              "  </thead>\n",
              "  <tbody>\n",
              "    <tr>\n",
              "      <th>0</th>\n",
              "      <td>19</td>\n",
              "      <td>female</td>\n",
              "      <td>27.900</td>\n",
              "      <td>0</td>\n",
              "      <td>yes</td>\n",
              "      <td>southwest</td>\n",
              "      <td>16884.92400</td>\n",
              "    </tr>\n",
              "    <tr>\n",
              "      <th>1</th>\n",
              "      <td>18</td>\n",
              "      <td>male</td>\n",
              "      <td>33.770</td>\n",
              "      <td>1</td>\n",
              "      <td>no</td>\n",
              "      <td>southeast</td>\n",
              "      <td>1725.55230</td>\n",
              "    </tr>\n",
              "    <tr>\n",
              "      <th>2</th>\n",
              "      <td>28</td>\n",
              "      <td>male</td>\n",
              "      <td>33.000</td>\n",
              "      <td>3</td>\n",
              "      <td>no</td>\n",
              "      <td>southeast</td>\n",
              "      <td>4449.46200</td>\n",
              "    </tr>\n",
              "    <tr>\n",
              "      <th>3</th>\n",
              "      <td>33</td>\n",
              "      <td>male</td>\n",
              "      <td>22.705</td>\n",
              "      <td>0</td>\n",
              "      <td>no</td>\n",
              "      <td>northwest</td>\n",
              "      <td>21984.47061</td>\n",
              "    </tr>\n",
              "    <tr>\n",
              "      <th>4</th>\n",
              "      <td>32</td>\n",
              "      <td>male</td>\n",
              "      <td>28.880</td>\n",
              "      <td>0</td>\n",
              "      <td>no</td>\n",
              "      <td>northwest</td>\n",
              "      <td>3866.85520</td>\n",
              "    </tr>\n",
              "  </tbody>\n",
              "</table>\n",
              "</div>\n",
              "    <div class=\"colab-df-buttons\">\n",
              "\n",
              "  <div class=\"colab-df-container\">\n",
              "    <button class=\"colab-df-convert\" onclick=\"convertToInteractive('df-e94a3ada-71a2-4791-aef4-d97d33d0ddfe')\"\n",
              "            title=\"Convert this dataframe to an interactive table.\"\n",
              "            style=\"display:none;\">\n",
              "\n",
              "  <svg xmlns=\"http://www.w3.org/2000/svg\" height=\"24px\" viewBox=\"0 -960 960 960\">\n",
              "    <path d=\"M120-120v-720h720v720H120Zm60-500h600v-160H180v160Zm220 220h160v-160H400v160Zm0 220h160v-160H400v160ZM180-400h160v-160H180v160Zm440 0h160v-160H620v160ZM180-180h160v-160H180v160Zm440 0h160v-160H620v160Z\"/>\n",
              "  </svg>\n",
              "    </button>\n",
              "\n",
              "  <style>\n",
              "    .colab-df-container {\n",
              "      display:flex;\n",
              "      gap: 12px;\n",
              "    }\n",
              "\n",
              "    .colab-df-convert {\n",
              "      background-color: #E8F0FE;\n",
              "      border: none;\n",
              "      border-radius: 50%;\n",
              "      cursor: pointer;\n",
              "      display: none;\n",
              "      fill: #1967D2;\n",
              "      height: 32px;\n",
              "      padding: 0 0 0 0;\n",
              "      width: 32px;\n",
              "    }\n",
              "\n",
              "    .colab-df-convert:hover {\n",
              "      background-color: #E2EBFA;\n",
              "      box-shadow: 0px 1px 2px rgba(60, 64, 67, 0.3), 0px 1px 3px 1px rgba(60, 64, 67, 0.15);\n",
              "      fill: #174EA6;\n",
              "    }\n",
              "\n",
              "    .colab-df-buttons div {\n",
              "      margin-bottom: 4px;\n",
              "    }\n",
              "\n",
              "    [theme=dark] .colab-df-convert {\n",
              "      background-color: #3B4455;\n",
              "      fill: #D2E3FC;\n",
              "    }\n",
              "\n",
              "    [theme=dark] .colab-df-convert:hover {\n",
              "      background-color: #434B5C;\n",
              "      box-shadow: 0px 1px 3px 1px rgba(0, 0, 0, 0.15);\n",
              "      filter: drop-shadow(0px 1px 2px rgba(0, 0, 0, 0.3));\n",
              "      fill: #FFFFFF;\n",
              "    }\n",
              "  </style>\n",
              "\n",
              "    <script>\n",
              "      const buttonEl =\n",
              "        document.querySelector('#df-e94a3ada-71a2-4791-aef4-d97d33d0ddfe button.colab-df-convert');\n",
              "      buttonEl.style.display =\n",
              "        google.colab.kernel.accessAllowed ? 'block' : 'none';\n",
              "\n",
              "      async function convertToInteractive(key) {\n",
              "        const element = document.querySelector('#df-e94a3ada-71a2-4791-aef4-d97d33d0ddfe');\n",
              "        const dataTable =\n",
              "          await google.colab.kernel.invokeFunction('convertToInteractive',\n",
              "                                                    [key], {});\n",
              "        if (!dataTable) return;\n",
              "\n",
              "        const docLinkHtml = 'Like what you see? Visit the ' +\n",
              "          '<a target=\"_blank\" href=https://colab.research.google.com/notebooks/data_table.ipynb>data table notebook</a>'\n",
              "          + ' to learn more about interactive tables.';\n",
              "        element.innerHTML = '';\n",
              "        dataTable['output_type'] = 'display_data';\n",
              "        await google.colab.output.renderOutput(dataTable, element);\n",
              "        const docLink = document.createElement('div');\n",
              "        docLink.innerHTML = docLinkHtml;\n",
              "        element.appendChild(docLink);\n",
              "      }\n",
              "    </script>\n",
              "  </div>\n",
              "\n",
              "\n",
              "    <div id=\"df-00c4ba25-3de9-4aa7-b868-5ce4c861ae4d\">\n",
              "      <button class=\"colab-df-quickchart\" onclick=\"quickchart('df-00c4ba25-3de9-4aa7-b868-5ce4c861ae4d')\"\n",
              "                title=\"Suggest charts\"\n",
              "                style=\"display:none;\">\n",
              "\n",
              "<svg xmlns=\"http://www.w3.org/2000/svg\" height=\"24px\"viewBox=\"0 0 24 24\"\n",
              "     width=\"24px\">\n",
              "    <g>\n",
              "        <path d=\"M19 3H5c-1.1 0-2 .9-2 2v14c0 1.1.9 2 2 2h14c1.1 0 2-.9 2-2V5c0-1.1-.9-2-2-2zM9 17H7v-7h2v7zm4 0h-2V7h2v10zm4 0h-2v-4h2v4z\"/>\n",
              "    </g>\n",
              "</svg>\n",
              "      </button>\n",
              "\n",
              "<style>\n",
              "  .colab-df-quickchart {\n",
              "      --bg-color: #E8F0FE;\n",
              "      --fill-color: #1967D2;\n",
              "      --hover-bg-color: #E2EBFA;\n",
              "      --hover-fill-color: #174EA6;\n",
              "      --disabled-fill-color: #AAA;\n",
              "      --disabled-bg-color: #DDD;\n",
              "  }\n",
              "\n",
              "  [theme=dark] .colab-df-quickchart {\n",
              "      --bg-color: #3B4455;\n",
              "      --fill-color: #D2E3FC;\n",
              "      --hover-bg-color: #434B5C;\n",
              "      --hover-fill-color: #FFFFFF;\n",
              "      --disabled-bg-color: #3B4455;\n",
              "      --disabled-fill-color: #666;\n",
              "  }\n",
              "\n",
              "  .colab-df-quickchart {\n",
              "    background-color: var(--bg-color);\n",
              "    border: none;\n",
              "    border-radius: 50%;\n",
              "    cursor: pointer;\n",
              "    display: none;\n",
              "    fill: var(--fill-color);\n",
              "    height: 32px;\n",
              "    padding: 0;\n",
              "    width: 32px;\n",
              "  }\n",
              "\n",
              "  .colab-df-quickchart:hover {\n",
              "    background-color: var(--hover-bg-color);\n",
              "    box-shadow: 0 1px 2px rgba(60, 64, 67, 0.3), 0 1px 3px 1px rgba(60, 64, 67, 0.15);\n",
              "    fill: var(--button-hover-fill-color);\n",
              "  }\n",
              "\n",
              "  .colab-df-quickchart-complete:disabled,\n",
              "  .colab-df-quickchart-complete:disabled:hover {\n",
              "    background-color: var(--disabled-bg-color);\n",
              "    fill: var(--disabled-fill-color);\n",
              "    box-shadow: none;\n",
              "  }\n",
              "\n",
              "  .colab-df-spinner {\n",
              "    border: 2px solid var(--fill-color);\n",
              "    border-color: transparent;\n",
              "    border-bottom-color: var(--fill-color);\n",
              "    animation:\n",
              "      spin 1s steps(1) infinite;\n",
              "  }\n",
              "\n",
              "  @keyframes spin {\n",
              "    0% {\n",
              "      border-color: transparent;\n",
              "      border-bottom-color: var(--fill-color);\n",
              "      border-left-color: var(--fill-color);\n",
              "    }\n",
              "    20% {\n",
              "      border-color: transparent;\n",
              "      border-left-color: var(--fill-color);\n",
              "      border-top-color: var(--fill-color);\n",
              "    }\n",
              "    30% {\n",
              "      border-color: transparent;\n",
              "      border-left-color: var(--fill-color);\n",
              "      border-top-color: var(--fill-color);\n",
              "      border-right-color: var(--fill-color);\n",
              "    }\n",
              "    40% {\n",
              "      border-color: transparent;\n",
              "      border-right-color: var(--fill-color);\n",
              "      border-top-color: var(--fill-color);\n",
              "    }\n",
              "    60% {\n",
              "      border-color: transparent;\n",
              "      border-right-color: var(--fill-color);\n",
              "    }\n",
              "    80% {\n",
              "      border-color: transparent;\n",
              "      border-right-color: var(--fill-color);\n",
              "      border-bottom-color: var(--fill-color);\n",
              "    }\n",
              "    90% {\n",
              "      border-color: transparent;\n",
              "      border-bottom-color: var(--fill-color);\n",
              "    }\n",
              "  }\n",
              "</style>\n",
              "\n",
              "      <script>\n",
              "        async function quickchart(key) {\n",
              "          const quickchartButtonEl =\n",
              "            document.querySelector('#' + key + ' button');\n",
              "          quickchartButtonEl.disabled = true;  // To prevent multiple clicks.\n",
              "          quickchartButtonEl.classList.add('colab-df-spinner');\n",
              "          try {\n",
              "            const charts = await google.colab.kernel.invokeFunction(\n",
              "                'suggestCharts', [key], {});\n",
              "          } catch (error) {\n",
              "            console.error('Error during call to suggestCharts:', error);\n",
              "          }\n",
              "          quickchartButtonEl.classList.remove('colab-df-spinner');\n",
              "          quickchartButtonEl.classList.add('colab-df-quickchart-complete');\n",
              "        }\n",
              "        (() => {\n",
              "          let quickchartButtonEl =\n",
              "            document.querySelector('#df-00c4ba25-3de9-4aa7-b868-5ce4c861ae4d button');\n",
              "          quickchartButtonEl.style.display =\n",
              "            google.colab.kernel.accessAllowed ? 'block' : 'none';\n",
              "        })();\n",
              "      </script>\n",
              "    </div>\n",
              "\n",
              "    </div>\n",
              "  </div>\n"
            ],
            "application/vnd.google.colaboratory.intrinsic+json": {
              "type": "dataframe",
              "variable_name": "df_raw",
              "summary": "{\n  \"name\": \"df_raw\",\n  \"rows\": 1338,\n  \"fields\": [\n    {\n      \"column\": \"age\",\n      \"properties\": {\n        \"dtype\": \"number\",\n        \"std\": 14,\n        \"min\": 18,\n        \"max\": 64,\n        \"num_unique_values\": 47,\n        \"samples\": [\n          21,\n          45,\n          36\n        ],\n        \"semantic_type\": \"\",\n        \"description\": \"\"\n      }\n    },\n    {\n      \"column\": \"sex\",\n      \"properties\": {\n        \"dtype\": \"category\",\n        \"num_unique_values\": 2,\n        \"samples\": [\n          \"male\",\n          \"female\"\n        ],\n        \"semantic_type\": \"\",\n        \"description\": \"\"\n      }\n    },\n    {\n      \"column\": \"bmi\",\n      \"properties\": {\n        \"dtype\": \"number\",\n        \"std\": 6.098186911679017,\n        \"min\": 15.96,\n        \"max\": 53.13,\n        \"num_unique_values\": 548,\n        \"samples\": [\n          23.18,\n          26.885\n        ],\n        \"semantic_type\": \"\",\n        \"description\": \"\"\n      }\n    },\n    {\n      \"column\": \"children\",\n      \"properties\": {\n        \"dtype\": \"number\",\n        \"std\": 1,\n        \"min\": 0,\n        \"max\": 5,\n        \"num_unique_values\": 6,\n        \"samples\": [\n          0,\n          1\n        ],\n        \"semantic_type\": \"\",\n        \"description\": \"\"\n      }\n    },\n    {\n      \"column\": \"smoker\",\n      \"properties\": {\n        \"dtype\": \"category\",\n        \"num_unique_values\": 2,\n        \"samples\": [\n          \"no\",\n          \"yes\"\n        ],\n        \"semantic_type\": \"\",\n        \"description\": \"\"\n      }\n    },\n    {\n      \"column\": \"region\",\n      \"properties\": {\n        \"dtype\": \"category\",\n        \"num_unique_values\": 4,\n        \"samples\": [\n          \"southeast\",\n          \"northeast\"\n        ],\n        \"semantic_type\": \"\",\n        \"description\": \"\"\n      }\n    },\n    {\n      \"column\": \"charges\",\n      \"properties\": {\n        \"dtype\": \"number\",\n        \"std\": 12110.011236693994,\n        \"min\": 1121.8739,\n        \"max\": 63770.42801,\n        \"num_unique_values\": 1337,\n        \"samples\": [\n          8688.85885,\n          5708.867\n        ],\n        \"semantic_type\": \"\",\n        \"description\": \"\"\n      }\n    }\n  ]\n}"
            }
          },
          "metadata": {},
          "execution_count": 7
        }
      ]
    },
    {
      "cell_type": "markdown",
      "metadata": {
        "id": "uk7AjdwKqTTr"
      },
      "source": [
        "### <a name='2'></a> Utworzenie kopii danych"
      ]
    },
    {
      "cell_type": "code",
      "metadata": {
        "id": "uNRwupCCPnlr",
        "outputId": "b9413e38-96d6-4206-bb7f-be260d391f9a",
        "colab": {
          "base_uri": "https://localhost:8080/"
        }
      },
      "source": [
        "df = df_raw.copy()\n",
        "df.info()"
      ],
      "execution_count": 8,
      "outputs": [
        {
          "output_type": "stream",
          "name": "stdout",
          "text": [
            "<class 'pandas.core.frame.DataFrame'>\n",
            "RangeIndex: 1338 entries, 0 to 1337\n",
            "Data columns (total 7 columns):\n",
            " #   Column    Non-Null Count  Dtype  \n",
            "---  ------    --------------  -----  \n",
            " 0   age       1338 non-null   int64  \n",
            " 1   sex       1338 non-null   object \n",
            " 2   bmi       1338 non-null   float64\n",
            " 3   children  1338 non-null   int64  \n",
            " 4   smoker    1338 non-null   object \n",
            " 5   region    1338 non-null   object \n",
            " 6   charges   1338 non-null   float64\n",
            "dtypes: float64(2), int64(2), object(3)\n",
            "memory usage: 73.3+ KB\n"
          ]
        }
      ]
    },
    {
      "cell_type": "markdown",
      "metadata": {
        "id": "7nY1rhjEqZ0_"
      },
      "source": [
        "### <a name='3'></a> Eksplorcja i wstępne przygotowanie danych"
      ]
    },
    {
      "cell_type": "markdown",
      "source": [
        "sprawdzamy duplikaty"
      ],
      "metadata": {
        "id": "2q35ti2714ST"
      }
    },
    {
      "cell_type": "code",
      "metadata": {
        "id": "jQIC8-q-ZVsn",
        "outputId": "eb24bd14-9862-46ad-9240-04a300e24437",
        "colab": {
          "base_uri": "https://localhost:8080/",
          "height": 81
        }
      },
      "source": [
        "df[df.duplicated()]"
      ],
      "execution_count": 9,
      "outputs": [
        {
          "output_type": "execute_result",
          "data": {
            "text/plain": [
              "     age   sex    bmi  children smoker     region    charges\n",
              "581   19  male  30.59         0     no  northwest  1639.5631"
            ],
            "text/html": [
              "\n",
              "  <div id=\"df-a5cf53ad-e733-4d6a-95de-573f3acd4bf0\" class=\"colab-df-container\">\n",
              "    <div>\n",
              "<style scoped>\n",
              "    .dataframe tbody tr th:only-of-type {\n",
              "        vertical-align: middle;\n",
              "    }\n",
              "\n",
              "    .dataframe tbody tr th {\n",
              "        vertical-align: top;\n",
              "    }\n",
              "\n",
              "    .dataframe thead th {\n",
              "        text-align: right;\n",
              "    }\n",
              "</style>\n",
              "<table border=\"1\" class=\"dataframe\">\n",
              "  <thead>\n",
              "    <tr style=\"text-align: right;\">\n",
              "      <th></th>\n",
              "      <th>age</th>\n",
              "      <th>sex</th>\n",
              "      <th>bmi</th>\n",
              "      <th>children</th>\n",
              "      <th>smoker</th>\n",
              "      <th>region</th>\n",
              "      <th>charges</th>\n",
              "    </tr>\n",
              "  </thead>\n",
              "  <tbody>\n",
              "    <tr>\n",
              "      <th>581</th>\n",
              "      <td>19</td>\n",
              "      <td>male</td>\n",
              "      <td>30.59</td>\n",
              "      <td>0</td>\n",
              "      <td>no</td>\n",
              "      <td>northwest</td>\n",
              "      <td>1639.5631</td>\n",
              "    </tr>\n",
              "  </tbody>\n",
              "</table>\n",
              "</div>\n",
              "    <div class=\"colab-df-buttons\">\n",
              "\n",
              "  <div class=\"colab-df-container\">\n",
              "    <button class=\"colab-df-convert\" onclick=\"convertToInteractive('df-a5cf53ad-e733-4d6a-95de-573f3acd4bf0')\"\n",
              "            title=\"Convert this dataframe to an interactive table.\"\n",
              "            style=\"display:none;\">\n",
              "\n",
              "  <svg xmlns=\"http://www.w3.org/2000/svg\" height=\"24px\" viewBox=\"0 -960 960 960\">\n",
              "    <path d=\"M120-120v-720h720v720H120Zm60-500h600v-160H180v160Zm220 220h160v-160H400v160Zm0 220h160v-160H400v160ZM180-400h160v-160H180v160Zm440 0h160v-160H620v160ZM180-180h160v-160H180v160Zm440 0h160v-160H620v160Z\"/>\n",
              "  </svg>\n",
              "    </button>\n",
              "\n",
              "  <style>\n",
              "    .colab-df-container {\n",
              "      display:flex;\n",
              "      gap: 12px;\n",
              "    }\n",
              "\n",
              "    .colab-df-convert {\n",
              "      background-color: #E8F0FE;\n",
              "      border: none;\n",
              "      border-radius: 50%;\n",
              "      cursor: pointer;\n",
              "      display: none;\n",
              "      fill: #1967D2;\n",
              "      height: 32px;\n",
              "      padding: 0 0 0 0;\n",
              "      width: 32px;\n",
              "    }\n",
              "\n",
              "    .colab-df-convert:hover {\n",
              "      background-color: #E2EBFA;\n",
              "      box-shadow: 0px 1px 2px rgba(60, 64, 67, 0.3), 0px 1px 3px 1px rgba(60, 64, 67, 0.15);\n",
              "      fill: #174EA6;\n",
              "    }\n",
              "\n",
              "    .colab-df-buttons div {\n",
              "      margin-bottom: 4px;\n",
              "    }\n",
              "\n",
              "    [theme=dark] .colab-df-convert {\n",
              "      background-color: #3B4455;\n",
              "      fill: #D2E3FC;\n",
              "    }\n",
              "\n",
              "    [theme=dark] .colab-df-convert:hover {\n",
              "      background-color: #434B5C;\n",
              "      box-shadow: 0px 1px 3px 1px rgba(0, 0, 0, 0.15);\n",
              "      filter: drop-shadow(0px 1px 2px rgba(0, 0, 0, 0.3));\n",
              "      fill: #FFFFFF;\n",
              "    }\n",
              "  </style>\n",
              "\n",
              "    <script>\n",
              "      const buttonEl =\n",
              "        document.querySelector('#df-a5cf53ad-e733-4d6a-95de-573f3acd4bf0 button.colab-df-convert');\n",
              "      buttonEl.style.display =\n",
              "        google.colab.kernel.accessAllowed ? 'block' : 'none';\n",
              "\n",
              "      async function convertToInteractive(key) {\n",
              "        const element = document.querySelector('#df-a5cf53ad-e733-4d6a-95de-573f3acd4bf0');\n",
              "        const dataTable =\n",
              "          await google.colab.kernel.invokeFunction('convertToInteractive',\n",
              "                                                    [key], {});\n",
              "        if (!dataTable) return;\n",
              "\n",
              "        const docLinkHtml = 'Like what you see? Visit the ' +\n",
              "          '<a target=\"_blank\" href=https://colab.research.google.com/notebooks/data_table.ipynb>data table notebook</a>'\n",
              "          + ' to learn more about interactive tables.';\n",
              "        element.innerHTML = '';\n",
              "        dataTable['output_type'] = 'display_data';\n",
              "        await google.colab.output.renderOutput(dataTable, element);\n",
              "        const docLink = document.createElement('div');\n",
              "        docLink.innerHTML = docLinkHtml;\n",
              "        element.appendChild(docLink);\n",
              "      }\n",
              "    </script>\n",
              "  </div>\n",
              "\n",
              "\n",
              "    </div>\n",
              "  </div>\n"
            ],
            "application/vnd.google.colaboratory.intrinsic+json": {
              "type": "dataframe",
              "summary": "{\n  \"name\": \"df[df\",\n  \"rows\": 1,\n  \"fields\": [\n    {\n      \"column\": \"age\",\n      \"properties\": {\n        \"dtype\": \"number\",\n        \"std\": null,\n        \"min\": 19,\n        \"max\": 19,\n        \"num_unique_values\": 1,\n        \"samples\": [\n          19\n        ],\n        \"semantic_type\": \"\",\n        \"description\": \"\"\n      }\n    },\n    {\n      \"column\": \"sex\",\n      \"properties\": {\n        \"dtype\": \"string\",\n        \"num_unique_values\": 1,\n        \"samples\": [\n          \"male\"\n        ],\n        \"semantic_type\": \"\",\n        \"description\": \"\"\n      }\n    },\n    {\n      \"column\": \"bmi\",\n      \"properties\": {\n        \"dtype\": \"number\",\n        \"std\": null,\n        \"min\": 30.59,\n        \"max\": 30.59,\n        \"num_unique_values\": 1,\n        \"samples\": [\n          30.59\n        ],\n        \"semantic_type\": \"\",\n        \"description\": \"\"\n      }\n    },\n    {\n      \"column\": \"children\",\n      \"properties\": {\n        \"dtype\": \"number\",\n        \"std\": null,\n        \"min\": 0,\n        \"max\": 0,\n        \"num_unique_values\": 1,\n        \"samples\": [\n          0\n        ],\n        \"semantic_type\": \"\",\n        \"description\": \"\"\n      }\n    },\n    {\n      \"column\": \"smoker\",\n      \"properties\": {\n        \"dtype\": \"string\",\n        \"num_unique_values\": 1,\n        \"samples\": [\n          \"no\"\n        ],\n        \"semantic_type\": \"\",\n        \"description\": \"\"\n      }\n    },\n    {\n      \"column\": \"region\",\n      \"properties\": {\n        \"dtype\": \"string\",\n        \"num_unique_values\": 1,\n        \"samples\": [\n          \"northwest\"\n        ],\n        \"semantic_type\": \"\",\n        \"description\": \"\"\n      }\n    },\n    {\n      \"column\": \"charges\",\n      \"properties\": {\n        \"dtype\": \"number\",\n        \"std\": null,\n        \"min\": 1639.5631,\n        \"max\": 1639.5631,\n        \"num_unique_values\": 1,\n        \"samples\": [\n          1639.5631\n        ],\n        \"semantic_type\": \"\",\n        \"description\": \"\"\n      }\n    }\n  ]\n}"
            }
          },
          "metadata": {},
          "execution_count": 9
        }
      ]
    },
    {
      "cell_type": "markdown",
      "source": [
        "posortuj po charges i wyświetl"
      ],
      "metadata": {
        "id": "YkTbSGng3tLS"
      }
    },
    {
      "cell_type": "code",
      "metadata": {
        "id": "qmPnM0unZ17h",
        "outputId": "ef1cc69d-7d82-4c88-85c1-e2c26fcbe192",
        "colab": {
          "base_uri": "https://localhost:8080/",
          "height": 112
        }
      },
      "source": [
        "df[df['charges'] == 1639.5631]"
      ],
      "execution_count": 10,
      "outputs": [
        {
          "output_type": "execute_result",
          "data": {
            "text/plain": [
              "     age   sex    bmi  children smoker     region    charges\n",
              "195   19  male  30.59         0     no  northwest  1639.5631\n",
              "581   19  male  30.59         0     no  northwest  1639.5631"
            ],
            "text/html": [
              "\n",
              "  <div id=\"df-8b4e3285-ef9f-4126-a321-7b6db34ab671\" class=\"colab-df-container\">\n",
              "    <div>\n",
              "<style scoped>\n",
              "    .dataframe tbody tr th:only-of-type {\n",
              "        vertical-align: middle;\n",
              "    }\n",
              "\n",
              "    .dataframe tbody tr th {\n",
              "        vertical-align: top;\n",
              "    }\n",
              "\n",
              "    .dataframe thead th {\n",
              "        text-align: right;\n",
              "    }\n",
              "</style>\n",
              "<table border=\"1\" class=\"dataframe\">\n",
              "  <thead>\n",
              "    <tr style=\"text-align: right;\">\n",
              "      <th></th>\n",
              "      <th>age</th>\n",
              "      <th>sex</th>\n",
              "      <th>bmi</th>\n",
              "      <th>children</th>\n",
              "      <th>smoker</th>\n",
              "      <th>region</th>\n",
              "      <th>charges</th>\n",
              "    </tr>\n",
              "  </thead>\n",
              "  <tbody>\n",
              "    <tr>\n",
              "      <th>195</th>\n",
              "      <td>19</td>\n",
              "      <td>male</td>\n",
              "      <td>30.59</td>\n",
              "      <td>0</td>\n",
              "      <td>no</td>\n",
              "      <td>northwest</td>\n",
              "      <td>1639.5631</td>\n",
              "    </tr>\n",
              "    <tr>\n",
              "      <th>581</th>\n",
              "      <td>19</td>\n",
              "      <td>male</td>\n",
              "      <td>30.59</td>\n",
              "      <td>0</td>\n",
              "      <td>no</td>\n",
              "      <td>northwest</td>\n",
              "      <td>1639.5631</td>\n",
              "    </tr>\n",
              "  </tbody>\n",
              "</table>\n",
              "</div>\n",
              "    <div class=\"colab-df-buttons\">\n",
              "\n",
              "  <div class=\"colab-df-container\">\n",
              "    <button class=\"colab-df-convert\" onclick=\"convertToInteractive('df-8b4e3285-ef9f-4126-a321-7b6db34ab671')\"\n",
              "            title=\"Convert this dataframe to an interactive table.\"\n",
              "            style=\"display:none;\">\n",
              "\n",
              "  <svg xmlns=\"http://www.w3.org/2000/svg\" height=\"24px\" viewBox=\"0 -960 960 960\">\n",
              "    <path d=\"M120-120v-720h720v720H120Zm60-500h600v-160H180v160Zm220 220h160v-160H400v160Zm0 220h160v-160H400v160ZM180-400h160v-160H180v160Zm440 0h160v-160H620v160ZM180-180h160v-160H180v160Zm440 0h160v-160H620v160Z\"/>\n",
              "  </svg>\n",
              "    </button>\n",
              "\n",
              "  <style>\n",
              "    .colab-df-container {\n",
              "      display:flex;\n",
              "      gap: 12px;\n",
              "    }\n",
              "\n",
              "    .colab-df-convert {\n",
              "      background-color: #E8F0FE;\n",
              "      border: none;\n",
              "      border-radius: 50%;\n",
              "      cursor: pointer;\n",
              "      display: none;\n",
              "      fill: #1967D2;\n",
              "      height: 32px;\n",
              "      padding: 0 0 0 0;\n",
              "      width: 32px;\n",
              "    }\n",
              "\n",
              "    .colab-df-convert:hover {\n",
              "      background-color: #E2EBFA;\n",
              "      box-shadow: 0px 1px 2px rgba(60, 64, 67, 0.3), 0px 1px 3px 1px rgba(60, 64, 67, 0.15);\n",
              "      fill: #174EA6;\n",
              "    }\n",
              "\n",
              "    .colab-df-buttons div {\n",
              "      margin-bottom: 4px;\n",
              "    }\n",
              "\n",
              "    [theme=dark] .colab-df-convert {\n",
              "      background-color: #3B4455;\n",
              "      fill: #D2E3FC;\n",
              "    }\n",
              "\n",
              "    [theme=dark] .colab-df-convert:hover {\n",
              "      background-color: #434B5C;\n",
              "      box-shadow: 0px 1px 3px 1px rgba(0, 0, 0, 0.15);\n",
              "      filter: drop-shadow(0px 1px 2px rgba(0, 0, 0, 0.3));\n",
              "      fill: #FFFFFF;\n",
              "    }\n",
              "  </style>\n",
              "\n",
              "    <script>\n",
              "      const buttonEl =\n",
              "        document.querySelector('#df-8b4e3285-ef9f-4126-a321-7b6db34ab671 button.colab-df-convert');\n",
              "      buttonEl.style.display =\n",
              "        google.colab.kernel.accessAllowed ? 'block' : 'none';\n",
              "\n",
              "      async function convertToInteractive(key) {\n",
              "        const element = document.querySelector('#df-8b4e3285-ef9f-4126-a321-7b6db34ab671');\n",
              "        const dataTable =\n",
              "          await google.colab.kernel.invokeFunction('convertToInteractive',\n",
              "                                                    [key], {});\n",
              "        if (!dataTable) return;\n",
              "\n",
              "        const docLinkHtml = 'Like what you see? Visit the ' +\n",
              "          '<a target=\"_blank\" href=https://colab.research.google.com/notebooks/data_table.ipynb>data table notebook</a>'\n",
              "          + ' to learn more about interactive tables.';\n",
              "        element.innerHTML = '';\n",
              "        dataTable['output_type'] = 'display_data';\n",
              "        await google.colab.output.renderOutput(dataTable, element);\n",
              "        const docLink = document.createElement('div');\n",
              "        docLink.innerHTML = docLinkHtml;\n",
              "        element.appendChild(docLink);\n",
              "      }\n",
              "    </script>\n",
              "  </div>\n",
              "\n",
              "\n",
              "    <div id=\"df-2e4cc6d5-1ce5-498b-bc7f-f0b292c01d66\">\n",
              "      <button class=\"colab-df-quickchart\" onclick=\"quickchart('df-2e4cc6d5-1ce5-498b-bc7f-f0b292c01d66')\"\n",
              "                title=\"Suggest charts\"\n",
              "                style=\"display:none;\">\n",
              "\n",
              "<svg xmlns=\"http://www.w3.org/2000/svg\" height=\"24px\"viewBox=\"0 0 24 24\"\n",
              "     width=\"24px\">\n",
              "    <g>\n",
              "        <path d=\"M19 3H5c-1.1 0-2 .9-2 2v14c0 1.1.9 2 2 2h14c1.1 0 2-.9 2-2V5c0-1.1-.9-2-2-2zM9 17H7v-7h2v7zm4 0h-2V7h2v10zm4 0h-2v-4h2v4z\"/>\n",
              "    </g>\n",
              "</svg>\n",
              "      </button>\n",
              "\n",
              "<style>\n",
              "  .colab-df-quickchart {\n",
              "      --bg-color: #E8F0FE;\n",
              "      --fill-color: #1967D2;\n",
              "      --hover-bg-color: #E2EBFA;\n",
              "      --hover-fill-color: #174EA6;\n",
              "      --disabled-fill-color: #AAA;\n",
              "      --disabled-bg-color: #DDD;\n",
              "  }\n",
              "\n",
              "  [theme=dark] .colab-df-quickchart {\n",
              "      --bg-color: #3B4455;\n",
              "      --fill-color: #D2E3FC;\n",
              "      --hover-bg-color: #434B5C;\n",
              "      --hover-fill-color: #FFFFFF;\n",
              "      --disabled-bg-color: #3B4455;\n",
              "      --disabled-fill-color: #666;\n",
              "  }\n",
              "\n",
              "  .colab-df-quickchart {\n",
              "    background-color: var(--bg-color);\n",
              "    border: none;\n",
              "    border-radius: 50%;\n",
              "    cursor: pointer;\n",
              "    display: none;\n",
              "    fill: var(--fill-color);\n",
              "    height: 32px;\n",
              "    padding: 0;\n",
              "    width: 32px;\n",
              "  }\n",
              "\n",
              "  .colab-df-quickchart:hover {\n",
              "    background-color: var(--hover-bg-color);\n",
              "    box-shadow: 0 1px 2px rgba(60, 64, 67, 0.3), 0 1px 3px 1px rgba(60, 64, 67, 0.15);\n",
              "    fill: var(--button-hover-fill-color);\n",
              "  }\n",
              "\n",
              "  .colab-df-quickchart-complete:disabled,\n",
              "  .colab-df-quickchart-complete:disabled:hover {\n",
              "    background-color: var(--disabled-bg-color);\n",
              "    fill: var(--disabled-fill-color);\n",
              "    box-shadow: none;\n",
              "  }\n",
              "\n",
              "  .colab-df-spinner {\n",
              "    border: 2px solid var(--fill-color);\n",
              "    border-color: transparent;\n",
              "    border-bottom-color: var(--fill-color);\n",
              "    animation:\n",
              "      spin 1s steps(1) infinite;\n",
              "  }\n",
              "\n",
              "  @keyframes spin {\n",
              "    0% {\n",
              "      border-color: transparent;\n",
              "      border-bottom-color: var(--fill-color);\n",
              "      border-left-color: var(--fill-color);\n",
              "    }\n",
              "    20% {\n",
              "      border-color: transparent;\n",
              "      border-left-color: var(--fill-color);\n",
              "      border-top-color: var(--fill-color);\n",
              "    }\n",
              "    30% {\n",
              "      border-color: transparent;\n",
              "      border-left-color: var(--fill-color);\n",
              "      border-top-color: var(--fill-color);\n",
              "      border-right-color: var(--fill-color);\n",
              "    }\n",
              "    40% {\n",
              "      border-color: transparent;\n",
              "      border-right-color: var(--fill-color);\n",
              "      border-top-color: var(--fill-color);\n",
              "    }\n",
              "    60% {\n",
              "      border-color: transparent;\n",
              "      border-right-color: var(--fill-color);\n",
              "    }\n",
              "    80% {\n",
              "      border-color: transparent;\n",
              "      border-right-color: var(--fill-color);\n",
              "      border-bottom-color: var(--fill-color);\n",
              "    }\n",
              "    90% {\n",
              "      border-color: transparent;\n",
              "      border-bottom-color: var(--fill-color);\n",
              "    }\n",
              "  }\n",
              "</style>\n",
              "\n",
              "      <script>\n",
              "        async function quickchart(key) {\n",
              "          const quickchartButtonEl =\n",
              "            document.querySelector('#' + key + ' button');\n",
              "          quickchartButtonEl.disabled = true;  // To prevent multiple clicks.\n",
              "          quickchartButtonEl.classList.add('colab-df-spinner');\n",
              "          try {\n",
              "            const charts = await google.colab.kernel.invokeFunction(\n",
              "                'suggestCharts', [key], {});\n",
              "          } catch (error) {\n",
              "            console.error('Error during call to suggestCharts:', error);\n",
              "          }\n",
              "          quickchartButtonEl.classList.remove('colab-df-spinner');\n",
              "          quickchartButtonEl.classList.add('colab-df-quickchart-complete');\n",
              "        }\n",
              "        (() => {\n",
              "          let quickchartButtonEl =\n",
              "            document.querySelector('#df-2e4cc6d5-1ce5-498b-bc7f-f0b292c01d66 button');\n",
              "          quickchartButtonEl.style.display =\n",
              "            google.colab.kernel.accessAllowed ? 'block' : 'none';\n",
              "        })();\n",
              "      </script>\n",
              "    </div>\n",
              "\n",
              "    </div>\n",
              "  </div>\n"
            ],
            "application/vnd.google.colaboratory.intrinsic+json": {
              "type": "dataframe",
              "summary": "{\n  \"name\": \"df[df['charges'] == 1639\",\n  \"rows\": 2,\n  \"fields\": [\n    {\n      \"column\": \"age\",\n      \"properties\": {\n        \"dtype\": \"number\",\n        \"std\": 0,\n        \"min\": 19,\n        \"max\": 19,\n        \"num_unique_values\": 1,\n        \"samples\": [\n          19\n        ],\n        \"semantic_type\": \"\",\n        \"description\": \"\"\n      }\n    },\n    {\n      \"column\": \"sex\",\n      \"properties\": {\n        \"dtype\": \"string\",\n        \"num_unique_values\": 1,\n        \"samples\": [\n          \"male\"\n        ],\n        \"semantic_type\": \"\",\n        \"description\": \"\"\n      }\n    },\n    {\n      \"column\": \"bmi\",\n      \"properties\": {\n        \"dtype\": \"number\",\n        \"std\": 0.0,\n        \"min\": 30.59,\n        \"max\": 30.59,\n        \"num_unique_values\": 1,\n        \"samples\": [\n          30.59\n        ],\n        \"semantic_type\": \"\",\n        \"description\": \"\"\n      }\n    },\n    {\n      \"column\": \"children\",\n      \"properties\": {\n        \"dtype\": \"number\",\n        \"std\": 0,\n        \"min\": 0,\n        \"max\": 0,\n        \"num_unique_values\": 1,\n        \"samples\": [\n          0\n        ],\n        \"semantic_type\": \"\",\n        \"description\": \"\"\n      }\n    },\n    {\n      \"column\": \"smoker\",\n      \"properties\": {\n        \"dtype\": \"string\",\n        \"num_unique_values\": 1,\n        \"samples\": [\n          \"no\"\n        ],\n        \"semantic_type\": \"\",\n        \"description\": \"\"\n      }\n    },\n    {\n      \"column\": \"region\",\n      \"properties\": {\n        \"dtype\": \"string\",\n        \"num_unique_values\": 1,\n        \"samples\": [\n          \"northwest\"\n        ],\n        \"semantic_type\": \"\",\n        \"description\": \"\"\n      }\n    },\n    {\n      \"column\": \"charges\",\n      \"properties\": {\n        \"dtype\": \"number\",\n        \"std\": 0.0,\n        \"min\": 1639.5631,\n        \"max\": 1639.5631,\n        \"num_unique_values\": 1,\n        \"samples\": [\n          1639.5631\n        ],\n        \"semantic_type\": \"\",\n        \"description\": \"\"\n      }\n    }\n  ]\n}"
            }
          },
          "metadata": {},
          "execution_count": 10
        }
      ]
    },
    {
      "cell_type": "markdown",
      "source": [
        "usuń znalezione duplikaty"
      ],
      "metadata": {
        "id": "NiIqoNFs35A2"
      }
    },
    {
      "cell_type": "code",
      "metadata": {
        "id": "N8wdAdr9aCFH",
        "outputId": "63562f57-c83d-424b-e323-4d3453f09b1a",
        "colab": {
          "base_uri": "https://localhost:8080/"
        }
      },
      "source": [
        "df = df.drop_duplicates()\n",
        "df.info()"
      ],
      "execution_count": 11,
      "outputs": [
        {
          "output_type": "stream",
          "name": "stdout",
          "text": [
            "<class 'pandas.core.frame.DataFrame'>\n",
            "Index: 1337 entries, 0 to 1337\n",
            "Data columns (total 7 columns):\n",
            " #   Column    Non-Null Count  Dtype  \n",
            "---  ------    --------------  -----  \n",
            " 0   age       1337 non-null   int64  \n",
            " 1   sex       1337 non-null   object \n",
            " 2   bmi       1337 non-null   float64\n",
            " 3   children  1337 non-null   int64  \n",
            " 4   smoker    1337 non-null   object \n",
            " 5   region    1337 non-null   object \n",
            " 6   charges   1337 non-null   float64\n",
            "dtypes: float64(2), int64(2), object(3)\n",
            "memory usage: 83.6+ KB\n"
          ]
        }
      ]
    },
    {
      "cell_type": "markdown",
      "source": [
        "typy object zmieniamy na typ category"
      ],
      "metadata": {
        "id": "4sGhU1Ux4Mja"
      }
    },
    {
      "cell_type": "markdown",
      "source": [
        "zrób for po kolumnach, znajdz zmienne typu object"
      ],
      "metadata": {
        "id": "6a40UgUF453x"
      }
    },
    {
      "cell_type": "markdown",
      "source": [
        "![image.png](data:image/png;base64,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)"
      ],
      "metadata": {
        "id": "40tO6QSg51zc"
      }
    },
    {
      "cell_type": "code",
      "metadata": {
        "id": "S5xO8MBlQn-B",
        "outputId": "66bd8c6c-87aa-4a0b-a01d-205fc0ae68a0",
        "colab": {
          "base_uri": "https://localhost:8080/"
        }
      },
      "source": [
        "cat_cols = [col for col in df.columns if df[col].dtype == 'O']\n",
        "cat_cols"
      ],
      "execution_count": 12,
      "outputs": [
        {
          "output_type": "execute_result",
          "data": {
            "text/plain": [
              "['sex', 'smoker', 'region']"
            ]
          },
          "metadata": {},
          "execution_count": 12
        }
      ]
    },
    {
      "cell_type": "code",
      "metadata": {
        "id": "nGP8BSp_RJpn",
        "outputId": "956d3369-2215-4c74-93d5-9a2fc81b14d1",
        "colab": {
          "base_uri": "https://localhost:8080/",
          "height": 223
        }
      },
      "source": [
        "for col in cat_cols:\n",
        "    df[col] = df[col].astype('category')\n",
        "df.info()"
      ],
      "execution_count": null,
      "outputs": [
        {
          "output_type": "stream",
          "text": [
            "<class 'pandas.core.frame.DataFrame'>\n",
            "Int64Index: 1337 entries, 0 to 1337\n",
            "Data columns (total 7 columns):\n",
            "age         1337 non-null int64\n",
            "sex         1337 non-null category\n",
            "bmi         1337 non-null float64\n",
            "children    1337 non-null int64\n",
            "smoker      1337 non-null category\n",
            "region      1337 non-null category\n",
            "charges     1337 non-null float64\n",
            "dtypes: category(3), float64(2), int64(2)\n",
            "memory usage: 56.5 KB\n"
          ],
          "name": "stdout"
        }
      ]
    },
    {
      "cell_type": "code",
      "metadata": {
        "id": "xDKqHQgiQ-KS",
        "outputId": "d93e1856-7841-45ae-f87e-8bb410821837",
        "colab": {
          "base_uri": "https://localhost:8080/",
          "height": 172
        }
      },
      "source": [
        "df.describe().T"
      ],
      "execution_count": null,
      "outputs": [
        {
          "output_type": "execute_result",
          "data": {
            "text/html": [
              "<div>\n",
              "<style scoped>\n",
              "    .dataframe tbody tr th:only-of-type {\n",
              "        vertical-align: middle;\n",
              "    }\n",
              "\n",
              "    .dataframe tbody tr th {\n",
              "        vertical-align: top;\n",
              "    }\n",
              "\n",
              "    .dataframe thead th {\n",
              "        text-align: right;\n",
              "    }\n",
              "</style>\n",
              "<table border=\"1\" class=\"dataframe\">\n",
              "  <thead>\n",
              "    <tr style=\"text-align: right;\">\n",
              "      <th></th>\n",
              "      <th>count</th>\n",
              "      <th>mean</th>\n",
              "      <th>std</th>\n",
              "      <th>min</th>\n",
              "      <th>25%</th>\n",
              "      <th>50%</th>\n",
              "      <th>75%</th>\n",
              "      <th>max</th>\n",
              "    </tr>\n",
              "  </thead>\n",
              "  <tbody>\n",
              "    <tr>\n",
              "      <th>age</th>\n",
              "      <td>1337.0</td>\n",
              "      <td>39.222139</td>\n",
              "      <td>14.044333</td>\n",
              "      <td>18.0000</td>\n",
              "      <td>27.000</td>\n",
              "      <td>39.0000</td>\n",
              "      <td>51.00000</td>\n",
              "      <td>64.00000</td>\n",
              "    </tr>\n",
              "    <tr>\n",
              "      <th>bmi</th>\n",
              "      <td>1337.0</td>\n",
              "      <td>30.663452</td>\n",
              "      <td>6.100468</td>\n",
              "      <td>15.9600</td>\n",
              "      <td>26.290</td>\n",
              "      <td>30.4000</td>\n",
              "      <td>34.70000</td>\n",
              "      <td>53.13000</td>\n",
              "    </tr>\n",
              "    <tr>\n",
              "      <th>children</th>\n",
              "      <td>1337.0</td>\n",
              "      <td>1.095737</td>\n",
              "      <td>1.205571</td>\n",
              "      <td>0.0000</td>\n",
              "      <td>0.000</td>\n",
              "      <td>1.0000</td>\n",
              "      <td>2.00000</td>\n",
              "      <td>5.00000</td>\n",
              "    </tr>\n",
              "    <tr>\n",
              "      <th>charges</th>\n",
              "      <td>1337.0</td>\n",
              "      <td>13279.121487</td>\n",
              "      <td>12110.359656</td>\n",
              "      <td>1121.8739</td>\n",
              "      <td>4746.344</td>\n",
              "      <td>9386.1613</td>\n",
              "      <td>16657.71745</td>\n",
              "      <td>63770.42801</td>\n",
              "    </tr>\n",
              "  </tbody>\n",
              "</table>\n",
              "</div>"
            ],
            "text/plain": [
              "           count          mean  ...          75%          max\n",
              "age       1337.0     39.222139  ...     51.00000     64.00000\n",
              "bmi       1337.0     30.663452  ...     34.70000     53.13000\n",
              "children  1337.0      1.095737  ...      2.00000      5.00000\n",
              "charges   1337.0  13279.121487  ...  16657.71745  63770.42801\n",
              "\n",
              "[4 rows x 8 columns]"
            ]
          },
          "metadata": {
            "tags": []
          },
          "execution_count": 10
        }
      ]
    },
    {
      "cell_type": "code",
      "metadata": {
        "id": "q9JpDAldRA5a",
        "outputId": "0483ad9f-3658-43b8-b23c-b8dae174c7d1",
        "colab": {
          "base_uri": "https://localhost:8080/",
          "height": 141
        }
      },
      "source": [
        "df.describe(include=['category']).T"
      ],
      "execution_count": null,
      "outputs": [
        {
          "output_type": "execute_result",
          "data": {
            "text/html": [
              "<div>\n",
              "<style scoped>\n",
              "    .dataframe tbody tr th:only-of-type {\n",
              "        vertical-align: middle;\n",
              "    }\n",
              "\n",
              "    .dataframe tbody tr th {\n",
              "        vertical-align: top;\n",
              "    }\n",
              "\n",
              "    .dataframe thead th {\n",
              "        text-align: right;\n",
              "    }\n",
              "</style>\n",
              "<table border=\"1\" class=\"dataframe\">\n",
              "  <thead>\n",
              "    <tr style=\"text-align: right;\">\n",
              "      <th></th>\n",
              "      <th>count</th>\n",
              "      <th>unique</th>\n",
              "      <th>top</th>\n",
              "      <th>freq</th>\n",
              "    </tr>\n",
              "  </thead>\n",
              "  <tbody>\n",
              "    <tr>\n",
              "      <th>sex</th>\n",
              "      <td>1337</td>\n",
              "      <td>2</td>\n",
              "      <td>male</td>\n",
              "      <td>675</td>\n",
              "    </tr>\n",
              "    <tr>\n",
              "      <th>smoker</th>\n",
              "      <td>1337</td>\n",
              "      <td>2</td>\n",
              "      <td>no</td>\n",
              "      <td>1063</td>\n",
              "    </tr>\n",
              "    <tr>\n",
              "      <th>region</th>\n",
              "      <td>1337</td>\n",
              "      <td>4</td>\n",
              "      <td>southeast</td>\n",
              "      <td>364</td>\n",
              "    </tr>\n",
              "  </tbody>\n",
              "</table>\n",
              "</div>"
            ],
            "text/plain": [
              "       count unique        top  freq\n",
              "sex     1337      2       male   675\n",
              "smoker  1337      2         no  1063\n",
              "region  1337      4  southeast   364"
            ]
          },
          "metadata": {
            "tags": []
          },
          "execution_count": 11
        }
      ]
    },
    {
      "cell_type": "code",
      "metadata": {
        "id": "psY97s7MP9N4",
        "outputId": "86db183d-a6f4-4717-9556-41e93f0c9eb7",
        "colab": {
          "base_uri": "https://localhost:8080/",
          "height": 154
        }
      },
      "source": [
        "df.isnull().sum()"
      ],
      "execution_count": null,
      "outputs": [
        {
          "output_type": "execute_result",
          "data": {
            "text/plain": [
              "age         0\n",
              "sex         0\n",
              "bmi         0\n",
              "children    0\n",
              "smoker      0\n",
              "region      0\n",
              "charges     0\n",
              "dtype: int64"
            ]
          },
          "metadata": {
            "tags": []
          },
          "execution_count": 12
        }
      ]
    },
    {
      "cell_type": "code",
      "metadata": {
        "id": "1GgIerZCQu82",
        "outputId": "afa2d752-c112-44d9-b27c-564efe63be29",
        "colab": {
          "base_uri": "https://localhost:8080/",
          "height": 68
        }
      },
      "source": [
        "df.sex.value_counts()"
      ],
      "execution_count": null,
      "outputs": [
        {
          "output_type": "execute_result",
          "data": {
            "text/plain": [
              "male      675\n",
              "female    662\n",
              "Name: sex, dtype: int64"
            ]
          },
          "metadata": {
            "tags": []
          },
          "execution_count": 13
        }
      ]
    },
    {
      "cell_type": "code",
      "metadata": {
        "id": "tP_MCxw6VlwP",
        "outputId": "8e6eaeab-53fc-4778-f92a-6265ccb226aa",
        "colab": {
          "base_uri": "https://localhost:8080/",
          "height": 265
        }
      },
      "source": [
        "df.sex.value_counts().plot(kind='pie')"
      ],
      "execution_count": null,
      "outputs": [
        {
          "output_type": "execute_result",
          "data": {
            "text/plain": [
              "<matplotlib.axes._subplots.AxesSubplot at 0x7f1fe1dbc630>"
            ]
          },
          "metadata": {
            "tags": []
          },
          "execution_count": 14
        },
        {
          "output_type": "display_data",
          "data": {
            "image/png": "[encoded data removed]",
            "text/plain": [
              "<Figure size 432x288 with 1 Axes>"
            ]
          },
          "metadata": {
            "tags": []
          }
        }
      ]
    },
    {
      "cell_type": "code",
      "metadata": {
        "id": "KJpeRLTZRswx",
        "outputId": "af5f33c3-effd-4a75-9e1b-6fe37950a9c9",
        "colab": {
          "base_uri": "https://localhost:8080/",
          "height": 68
        }
      },
      "source": [
        "df.smoker.value_counts()"
      ],
      "execution_count": null,
      "outputs": [
        {
          "output_type": "execute_result",
          "data": {
            "text/plain": [
              "no     1063\n",
              "yes     274\n",
              "Name: smoker, dtype: int64"
            ]
          },
          "metadata": {
            "tags": []
          },
          "execution_count": 15
        }
      ]
    },
    {
      "cell_type": "code",
      "metadata": {
        "id": "Xs1uGDmTRwgG",
        "outputId": "68a844e1-6c01-4b3f-af1f-4411f5e457c5",
        "colab": {
          "base_uri": "https://localhost:8080/",
          "height": 103
        }
      },
      "source": [
        "df.region.value_counts()"
      ],
      "execution_count": null,
      "outputs": [
        {
          "output_type": "execute_result",
          "data": {
            "text/plain": [
              "southeast    364\n",
              "southwest    325\n",
              "northwest    324\n",
              "northeast    324\n",
              "Name: region, dtype: int64"
            ]
          },
          "metadata": {
            "tags": []
          },
          "execution_count": 16
        }
      ]
    },
    {
      "cell_type": "code",
      "metadata": {
        "id": "YKUdze1Yak5l",
        "outputId": "4726cc37-0f51-41aa-c6d9-76c8d7b2962e",
        "colab": {
          "base_uri": "https://localhost:8080/",
          "height": 285
        }
      },
      "source": [
        "df.charges.plot(kind='hist', bins=30)"
      ],
      "execution_count": null,
      "outputs": [
        {
          "output_type": "execute_result",
          "data": {
            "text/plain": [
              "<matplotlib.axes._subplots.AxesSubplot at 0x7f1fe1cfc438>"
            ]
          },
          "metadata": {
            "tags": []
          },
          "execution_count": 17
        },
        {
          "output_type": "display_data",
          "data": {
            "image/png": "[encoded data removed]",
            "text/plain": [
              "<Figure size 432x288 with 1 Axes>"
            ]
          },
          "metadata": {
            "tags": []
          }
        }
      ]
    },
    {
      "cell_type": "code",
      "metadata": {
        "id": "R2u7EDvEavZV",
        "outputId": "e3f083bd-e353-48df-b905-3105649489f0",
        "colab": {
          "base_uri": "https://localhost:8080/",
          "height": 417
        }
      },
      "source": [
        "import plotly.express as px\n",
        "\n",
        "px.histogram(df, x='charges', width=700, height=400, nbins=50, facet_col='smoker', facet_row='sex')"
      ],
      "execution_count": null,
      "outputs": [
        {
          "output_type": "display_data",
          "data": {
            "text/html": [
              "<html>\n",
              "<head><meta charset=\"utf-8\" /></head>\n",
              "<body>\n",
              "    <div>\n",
              "            <script src=\"https://cdnjs.cloudflare.com/ajax/libs/mathjax/2.7.5/MathJax.js?config=TeX-AMS-MML_SVG\"></script><script type=\"text/javascript\">if (window.MathJax) {MathJax.Hub.Config({SVG: {font: \"STIX-Web\"}});}</script>\n",
              "                <script type=\"text/javascript\">window.PlotlyConfig = {MathJaxConfig: 'local'};</script>\n",
              "        <script src=\"https://cdn.plot.ly/plotly-latest.min.js\"></script>    \n",
              "            <div id=\"6cce6b07-a691-46b6-b4c5-b476a481986c\" class=\"plotly-graph-div\" style=\"height:400px; width:700px;\"></div>\n",
              "            <script type=\"text/javascript\">\n",
              "                \n",
              "                    window.PLOTLYENV=window.PLOTLYENV || {};\n",
              "                    \n",
              "                if (document.getElementById(\"6cce6b07-a691-46b6-b4c5-b476a481986c\")) {\n",
              "                    Plotly.newPlot(\n",
              "                        '6cce6b07-a691-46b6-b4c5-b476a481986c',\n",
              "                        [{\"alignmentgroup\": \"True\", \"bingroup\": \"x\", \"hoverlabel\": {\"namelength\": 0}, \"hovertemplate\": \"sex=female<br>smoker=yes<br>charges=%{x}<br>count=%{y}\", \"legendgroup\": \"\", \"marker\": {\"color\": \"#636efa\"}, \"name\": \"\", \"nbinsx\": 50, \"offsetgroup\": \"\", \"orientation\": \"v\", \"showlegend\": false, \"type\": \"histogram\", \"x\": [16884.924, 27808.7251, 37701.8768, 23244.7902, 14711.7438, 16577.7795, 39836.519, 43578.9394, 47291.055, 30942.1918, 19107.7796, 17081.08, 32734.1863, 19964.7463, 21348.706000000002, 36149.4835, 48824.45, 37133.8982, 19444.2658, 38511.6283, 29523.1656, 47305.305, 17085.2676, 22331.5668, 47896.79135, 24873.3849, 34838.873, 47928.03, 48517.56315, 13844.506000000001, 18033.9679, 21659.9301, 15006.57945, 19594.80965, 14455.64405, 18608.262, 28950.4692, 37079.372, 19521.9682, 48885.135610000005, 63770.42801, 45863.205, 39983.42595, 58571.074479999996, 43943.8761, 15359.1045, 17468.9839, 25678.77845, 42969.8527, 34439.8559, 42983.4585, 24667.418999999998, 27037.9141, 40003.33225, 46200.9851, 44400.4064, 40932.4295, 16657.71745, 40419.0191, 19539.243000000002, 23065.4207, 17748.5062, 24520.264, 38792.6856, 23401.30575, 55135.402089999996, 36021.0112, 27533.9129, 45008.9555, 37270.1512, 42111.6647, 24106.91255, 40974.1649, 46113.511, 46255.1125, 29330.98315, 19798.05455, 17496.306, 21774.32215, 14571.8908, 16420.49455, 35595.5898, 21677.28345, 44423.803, 39725.51805, 20234.85475, 21880.82, 19023.26, 33907.547999999995, 44641.1974, 16776.30405, 24180.9335, 34166.273, 46661.4424, 40904.1995, 36898.73308, 40941.2854, 22478.6, 23887.6627, 18328.2381, 21771.3423, 33307.5508, 18223.4512, 20296.86345, 41661.602, 26125.674769999998, 20167.336030000002, 24535.69855, 14283.4594, 16115.3045, 33900.653, 36397.576, 18765.87545, 43896.3763, 29141.3603], \"xaxis\": \"x3\", \"yaxis\": \"y3\"}, {\"alignmentgroup\": \"True\", \"bingroup\": \"x\", \"hoverlabel\": {\"namelength\": 0}, \"hovertemplate\": \"sex=female<br>smoker=no<br>charges=%{x}<br>count=%{y}\", \"legendgroup\": \"\", \"marker\": {\"color\": \"#636efa\"}, \"name\": \"\", \"nbinsx\": 50, \"offsetgroup\": \"\", \"orientation\": \"v\", \"showlegend\": false, \"type\": \"histogram\", \"x\": [3756.6216, 8240.5896, 7281.5056, 28923.136919999997, 11090.7178, 10797.3362, 13228.84695, 4149.736, 14001.1338, 14451.83515, 12268.63225, 2198.18985, 4687.7970000000005, 15612.19335, 3046.062, 4949.7587, 6313.759, 3393.35635, 3556.9223, 12629.8967, 2211.13075, 3579.8287, 8059.6791, 13607.36875, 5989.52365, 4133.64165, 1743.214, 14235.072, 5920.1041, 11741.726, 3947.4131, 2755.02095, 6571.02435, 7935.29115, 11033.6617, 11073.176000000001, 8026.6666, 11082.5772, 2026.9741, 10942.13205, 3766.8838, 12105.32, 6186.1269999999995, 21344.8467, 5003.853, 2331.519, 11881.358, 2404.7338, 8601.3293, 6686.4313, 2257.47525, 10115.00885, 3385.39915, 9634.538, 12815.44495, 13616.3586, 11163.568000000001, 2457.21115, 2155.6815, 27322.733860000004, 2166.732, 5138.2567, 9877.6077, 10959.6947, 6334.34355, 7077.1894, 19749.383380000003, 5152.134, 4830.63, 6128.79745, 2719.27975, 5246.047, 2855.43755, 8823.279, 8538.28845, 1631.8212, 7419.4779, 3981.9768, 5325.651, 6775.960999999999, 4922.9159, 4883.866, 12044.341999999999, 5649.715, 8516.829, 9644.2525, 14901.5167, 2130.6759, 8871.1517, 13012.20865, 4337.7352, 13880.948999999999, 5002.7827, 8520.026, 7371.772, 10355.641, 3392.9768, 25081.76784, 5012.471, 10564.8845, 24227.33724, 7358.17565, 7443.64305, 14001.2867, 1727.785, 1615.7667, 5354.07465, 35160.13457, 12648.7034, 13047.33235, 5400.9805, 11837.16, 20462.99766, 14590.63205, 9715.841, 2150.469, 9855.1314, 11879.10405, 9625.92, 9432.9253, 14256.1928, 3172.018, 2156.7518, 9249.4952, 12265.5069, 4349.462, 12646.207, 20177.671130000002, 4151.0287, 7749.1564, 1737.376, 7421.19455, 24671.66334, 3561.8889, 13429.0354, 11658.37915, 19144.57652, 8232.6388, 18955.22017, 13217.0945, 10977.2063, 6184.2994, 5478.0368, 11830.6072, 8932.084, 3554.203, 14133.03775, 1607.5101, 10043.249, 2597.779, 3180.5101, 9778.3472, 13430.265, 8017.06115, 13415.0381, 12029.2867, 7639.41745, 16455.70785, 5846.9176, 11856.4115, 3176.8159, 4618.0799, 2138.0707, 9411.005, 8522.003, 1631.6683, 9264.796999999999, 14692.66935, 11396.9002, 4185.0979, 8539.671, 2134.9015, 7345.7266, 6555.07035, 7323.734818999999, 3167.45585, 18804.7524, 4906.40965, 12638.195, 12592.5345, 4738.2682, 28287.897660000002, 7345.084, 11454.0215, 5910.944, 11881.9696, 11840.77505, 7682.67, 10381.4787, 15230.32405, 13224.693000000001, 12643.3778, 23288.9284, 2201.0971, 2203.47185, 1744.465, 20878.78443, 1622.1885, 9880.068000000001, 4347.02335, 12475.3513, 1748.774, 24513.09126, 2196.4732, 4931.647, 8211.1002, 13470.86, 5974.3847, 3044.2133, 11455.28, 5240.765, 25656.575259999998, 3994.1778, 9866.30485, 5397.6167, 11482.63485, 24059.68019, 9861.025, 14043.4767, 5972.378000000001, 8825.086, 8233.0975, 6196.448, 3056.3881, 13887.204, 11538.421, 3213.62205, 3972.9247, 11187.6567, 17878.900680000002, 9193.8385, 10923.9332, 2801.2588, 2128.43105, 6373.55735, 11552.903999999999, 3761.292, 2219.4451, 4753.6368, 31620.001060000002, 13224.05705, 12222.8983, 3206.49135, 17626.23951, 4779.6023, 13635.6379, 5976.8311, 11842.442, 8823.98575, 7640.3092, 5594.8455, 33471.97189, 1633.0444, 11070.535, 16085.1275, 9283.562, 3558.62025, 8547.6913, 6571.544, 2207.69745, 6753.0380000000005, 1880.07, 11658.11505, 10713.643999999998, 9182.17, 3736.4647, 3366.6697, 2709.1119, 24915.04626, 4466.6214, 8252.2843, 12430.95335, 9800.8882, 10579.711000000001, 8280.6227, 8527.532, 12244.531, 3410.324, 26392.260290000002, 14394.39815, 22192.43711, 5148.5526, 6500.2359, 3943.5954, 6185.3208, 12485.8009, 10156.7832, 2585.269, 4766.022, 26236.57997, 3577.9990000000003, 3201.24515, 29186.48236, 3500.6123, 2020.5523, 9541.69555, 5385.3379, 8930.93455, 5375.0380000000005, 6113.23105, 5469.0066, 10107.2206, 8310.83915, 2457.502, 9566.9909, 10848.1343, 12231.6136, 9875.6804, 10106.13425, 2217.6012, 6781.3542, 4234.927, 9447.25035, 14007.222, 9583.8933, 3757.8448, 9910.35985, 8556.907, 11833.7823, 7985.815, 3925.7582, 9095.06825, 11842.62375, 7050.642, 14319.031, 6933.24225, 11150.78, 12797.20962, 4350.5144, 6414.178000000001, 13457.9608, 5662.225, 2731.9122, 7209.4918, 4719.52405, 11848.141000000001, 7046.7222, 14313.8463, 7731.85785, 28476.734989999997, 2136.88225, 9414.92, 6360.9936, 1877.9294, 2842.76075, 1621.8827, 8219.2039, 16069.08475, 5266.3656, 4719.73655, 11657.7189, 6402.29135, 12622.1795, 9872.701, 2974.1259999999997, 11729.6795, 1875.344, 18218.16139, 7151.092, 12269.68865, 5458.04645, 4391.652, 3392.3652, 2690.1138, 26140.3603, 6311.951999999999, 2585.85065, 5272.1758, 7243.8136, 13063.883, 1634.5734, 2117.33885, 12644.589, 4564.19145, 7633.7206, 14382.70905, 7626.993, 2473.3341, 13041.921, 5245.2269, 13451.122, 13462.52, 2913.5690000000004, 12032.326000000001, 13470.8044, 6238.298000000001, 7348.142, 12233.828000000001, 8965.79575, 9549.5651, 2217.46915, 11674.13, 4527.18295, 2730.10785, 3353.284, 14474.675, 8596.8278, 10702.6424, 4992.3764, 2527.81865, 1759.338, 9704.66805, 4889.0368, 16796.41194, 7624.63, 28340.18885, 3378.91, 7144.86265, 10118.424, 7986.47525, 7418.522, 13887.9685, 6551.7501, 5267.81815, 8269.044, 36580.28216, 5383.536, 2709.24395, 3987.926, 12495.29085, 26018.95052, 8569.8618, 2020.1770000000001, 6877.9801, 4137.5227, 12094.478000000001, 3161.454, 7325.0482, 3594.17085, 8023.13545, 3353.4703, 8277.523000000001, 17929.303369999998, 2480.9791, 5708.866999999999, 7045.499, 10928.848999999998, 12096.6512, 13204.28565, 4562.8421, 8551.347, 15019.76005, 11286.5387, 11299.343, 4561.1885, 23045.56616, 3227.1211, 10338.9316, 8988.15875, 10493.9458, 11512.405, 5312.16985, 5693.4305, 18903.49141, 14254.6082, 5836.5204, 1728.8970000000002, 8582.3023, 9991.03765, 11085.5868, 7623.518, 3176.2877, 7954.517, 27117.99378, 2261.5688, 2203.73595, 12235.8392, 5630.45785, 11015.1747, 7228.21565, 14426.07385, 2459.7201, 3989.841, 7727.2532, 2200.83085, 7153.5539, 5227.98875, 4529.477, 6112.35295, 11093.6229, 2154.361, 6496.8859999999995, 2899.48935, 7650.77375, 2850.68375, 2632.992, 9447.3824, 13844.7972, 13126.67745, 5327.40025, 13725.47184, 13019.16105, 8671.19125, 4134.08245, 18838.70366, 4934.705, 36910.60803, 10806.839, 3956.07145, 7537.1639, 4718.20355, 4795.6568, 12479.70895, 8515.7587, 14449.8544, 12224.35085, 3238.4357, 4296.2712, 3171.6149, 9101.798, 1633.9618, 15828.821730000001, 4415.1588, 6474.013000000001, 11436.73815, 11305.93455, 10197.7722, 4544.2348, 6770.1925, 7337.7480000000005, 10370.91255, 10704.47, 1880.487, 3021.80915, 2741.948, 4357.04365, 4189.1131, 8283.6807, 8534.6718, 3732.6251, 5472.4490000000005, 7133.9025, 4340.4409, 2710.82855, 3208.7870000000003, 2464.6188, 4571.41305, 1731.6770000000001, 7201.70085, 7050.0213, 22395.74424, 12629.1656, 10795.937329999999, 11411.685, 2205.9808, 1629.8335, 2007.945], \"xaxis\": \"x4\", \"yaxis\": \"y4\"}, {\"alignmentgroup\": \"True\", \"bingroup\": \"x\", \"hoverlabel\": {\"namelength\": 0}, \"hovertemplate\": \"sex=male<br>smoker=yes<br>charges=%{x}<br>count=%{y}\", \"legendgroup\": \"\", \"marker\": {\"color\": \"#636efa\"}, \"name\": \"\", \"nbinsx\": 50, \"offsetgroup\": \"\", \"orientation\": \"v\", \"showlegend\": false, \"type\": \"histogram\", \"x\": [39611.7577, 36837.467000000004, 38711.0, 35585.576, 51194.55914, 39774.2763, 48173.361, 38709.176, 23568.272, 37742.5757, 47496.49445, 34303.1672, 17663.1442, 37165.1638, 21098.55405, 30184.9367, 22412.6485, 15820.698999999999, 17560.37975, 47055.5321, 39556.4945, 18972.495, 20745.9891, 40720.55105, 21223.6758, 15518.18025, 36950.2567, 43753.33705, 20984.0936, 34779.615, 19515.5416, 17352.6803, 12829.4551, 44260.7499, 41097.16175, 43921.1837, 33750.2918, 24869.8368, 36219.40545, 46151.1245, 17179.522, 42856.837999999996, 48549.17835, 42112.2356, 16297.846000000001, 21978.6769, 38746.3551, 42124.5153, 35491.64, 42760.5022, 24393.6224, 41919.097, 36085.219, 38126.2465, 42303.69215, 46889.2612, 46599.1084, 39125.33225, 26109.32905, 22144.032000000003, 25382.297000000002, 28868.6639, 35147.52848, 17942.106, 36197.699, 22218.1149, 32548.3405, 21082.16, 38245.59327, 48675.5177, 23807.2406, 45702.02235, 39241.442, 23306.547000000002, 40182.246, 34617.84065, 20149.3229, 32787.458589999995, 42560.4304, 45710.20785, 46130.5265, 40103.89, 34806.4677, 40273.6455, 19361.9988, 36189.1017, 44585.45587, 18246.4955, 43254.41795, 36307.7983, 19040.876, 18259.216, 21195.818, 18310.742, 17904.52705, 43813.8661, 20773.62775, 39597.4072, 15817.9857, 19719.6947, 27218.43725, 44202.6536, 48673.5588, 33732.6867, 35069.37452, 39047.285, 19933.458, 47462.894, 38998.546, 20009.63365, 41999.52, 41034.2214, 23967.38305, 16138.76205, 19199.944, 17361.7661, 34472.841, 24915.22085, 18767.7377, 42211.1382, 16450.8947, 13747.87235, 37484.4493, 33475.81715, 44501.3982, 39727.614, 25309.488999999998, 48970.2476, 39871.7043, 34672.1472, 41676.0811, 41949.2441, 36124.5737, 38282.7495, 52590.82939, 39722.7462, 17178.6824, 19350.3689, 37465.34375, 38415.474, 60021.39897, 47269.85400000001, 49577.6624, 37607.5277, 18648.4217, 16232.847, 26926.5144, 34254.05335, 17043.3414, 22462.04375, 47403.88, 38344.566, 34828.654, 62592.87309, 46718.16325, 37829.7242, 21259.37795, 21472.4788, 28101.33305], \"xaxis\": \"x\", \"yaxis\": \"y\"}, {\"alignmentgroup\": \"True\", \"bingroup\": \"x\", \"hoverlabel\": {\"namelength\": 0}, \"hovertemplate\": \"sex=male<br>smoker=no<br>charges=%{x}<br>count=%{y}\", \"legendgroup\": \"\", \"marker\": {\"color\": \"#636efa\"}, \"name\": \"\", \"nbinsx\": 50, \"offsetgroup\": \"\", \"orientation\": \"v\", \"showlegend\": false, \"type\": \"histogram\", \"x\": [1725.5523, 4449.462, 21984.47061, 3866.8552, 6406.4107, 2721.3208, 1826.8429999999998, 1837.237, 2395.17155, 10602.385, 1137.011, 6203.90175, 2775.19215, 13770.0979, 1625.43375, 2302.3, 6272.4772, 6079.6715, 20630.28351, 8606.2174, 4504.6624, 30166.618169999998, 6389.37785, 6799.4580000000005, 11946.6259, 7726.854, 11356.6609, 1532.4697, 4441.21315, 5729.0053, 10226.2842, 3645.0894, 3877.30425, 2867.1196, 10825.2537, 4646.759, 11488.31695, 30259.995560000003, 11381.3254, 7740.3369999999995, 1705.6245, 6082.405, 1632.56445, 1261.442, 2045.68525, 27375.90478, 3490.5491, 18157.876, 1842.519, 5125.2157, 7789.635, 6948.7008, 10450.552, 5028.1466, 10407.08585, 4827.90495, 13405.3903, 8116.68, 1694.7964, 6455.86265, 10436.096, 11735.87905, 4005.4225, 7731.4271, 12557.6053, 2137.6536, 1137.4697, 1639.5631, 7147.105, 11743.298999999999, 6610.1097, 1980.07, 8162.71625, 3537.703, 2483.736, 5253.524, 11987.1682, 2689.4954, 9225.2564, 12333.828000000001, 6710.1919, 4463.2051, 7152.6714, 7196.866999999999, 24476.47851, 1986.9334, 1832.094, 4040.55825, 4260.744000000001, 11520.09985, 7441.053000000001, 9282.4806, 1719.4363, 7265.7025, 9617.66245, 2523.1695, 2803.69785, 12928.7911, 4237.12655, 7742.1098, 25992.82104, 20277.80751, 3906.127, 1704.5681, 6746.7425, 19442.3535, 11944.59435, 8444.474, 8124.4084, 9722.7695, 8835.26495, 10435.06525, 4667.60765, 4894.7533, 11566.30055, 2866.091, 6600.20595, 9144.565, 13822.803, 12142.5786, 13937.6665, 13352.0998, 13981.85035, 4889.9995, 8334.45755, 1635.73365, 12404.8791, 24603.04837, 8944.1151, 9620.3307, 1837.2819, 4751.07, 8116.26885, 3481.868, 1391.5287, 27000.98473, 20781.48892, 8302.53565, 1261.859, 30284.642939999998, 10736.87075, 8964.06055, 9290.1395, 7526.70645, 16586.49771, 14988.431999999999, 8083.9198, 10269.46, 3260.199, 6652.5288, 4074.4537, 1621.3402, 5080.096, 9140.951, 14418.2804, 2727.3951, 8968.33, 9788.8659, 23082.95533, 5969.723000000001, 4243.59005, 13919.8229, 2254.7967, 5926.846, 2897.3235, 1149.3959, 12730.9996, 4762.329000000001, 7512.267, 4032.2407, 1969.614, 1769.53165, 4686.3887, 21797.0004, 10601.412, 11165.41765, 1632.03625, 2497.0383, 2534.39375, 1534.3045, 1824.2854, 15555.18875, 9304.7019, 9563.029, 1253.9360000000001, 10461.9794, 12574.048999999999, 1967.0227, 8027.968000000001, 6837.3687, 6796.86325, 2643.2685, 3077.0955, 11763.0009, 2498.4144, 9361.3268, 1256.299, 11362.755, 27724.28875, 8413.46305, 3857.75925, 8342.90875, 1708.0014, 12925.886, 19214.705530000003, 13831.1152, 6067.12675, 27346.04207, 10231.4999, 3268.84665, 13390.559, 12957.118, 3847.6740000000004, 8334.5896, 3935.1799, 1646.4297, 2494.022, 9058.7303, 7256.7231, 1664.9996, 9724.53, 12913.9924, 6356.2707, 1242.816, 3861.20965, 8428.0693, 2566.4707, 5709.1644, 7441.501, 9174.13565, 4435.0942, 3659.3459999999995, 12129.61415, 6748.5912, 11326.71487, 11365.952, 10085.846, 1977.815, 7173.35995, 9391.346, 14410.9321, 12949.1554, 6666.243, 13143.86485, 18806.14547, 10141.1362, 6123.5688, 1712.227, 4058.71245, 6435.6237, 1136.3994, 8703.456, 4837.5823, 4399.731, 7222.78625, 12363.546999999999, 1242.26, 9863.4718, 11244.3769, 7729.64575, 5438.7491, 2104.1134, 8068.185, 2362.22905, 2352.96845, 10976.24575, 9504.3103, 10264.4421, 1727.54, 1984.4533, 12146.971000000001, 13112.6048, 11264.541000000001, 12979.358, 1263.249, 6664.68595, 10065.413, 3484.3309999999997, 8604.48365, 8827.2099, 11737.84884, 1627.28245, 3062.50825, 1906.35825, 14210.53595, 17128.42608, 5031.26955, 5428.7277, 2416.955, 3070.8087, 8062.764, 27941.28758, 7261.741, 10560.4917, 6986.696999999999, 7448.40395, 5934.3798, 9869.8102, 1146.7966, 9386.1613, 12741.16745, 1917.3184, 5209.57885, 1252.407, 4266.1658, 2103.08, 1815.8759, 1131.5066, 3309.7926, 11013.7119, 4428.88785, 5584.3057, 3597.5959999999995, 7445.918000000001, 2680.9493, 12523.6048, 6117.4945, 13393.756000000001, 11743.9341, 5377.4578, 7160.3303, 4402.233, 1526.3120000000001, 12323.936000000002, 10072.05505, 2438.0552, 10601.63225, 14119.62, 10965.446000000002, 8782.469000000001, 6600.361, 1141.4451, 11576.13, 13129.60345, 8457.818000000001, 5966.8874, 6849.026, 8891.1395, 6653.7886, 6282.235, 3443.0640000000003, 2789.0574, 4877.98105, 1682.5970000000002, 11945.1327, 10422.91665, 13555.0049, 2221.56445, 8688.85885, 4661.28635, 8125.7845, 4846.92015, 15170.069, 2639.0429, 5257.50795, 5488.262, 4320.41085, 6250.435, 25333.33284, 6289.7549, 2927.0647, 10096.97, 4673.3922, 32108.662819999998, 2304.0022, 9487.6442, 1121.8739, 1628.4709, 12982.8747, 7160.094, 6358.77645, 11534.87265, 3875.7341, 12609.88702, 28468.91901, 9500.57305, 26467.09737, 4746.344, 7518.02535, 3279.86855, 2322.6218, 7804.1605, 2902.9065, 25517.11363, 4500.33925, 4915.05985, 8410.04685, 4518.82625, 5484.4673, 1972.95, 21232.182259999998, 8627.5411, 4433.3877, 4438.2634, 23241.47453, 9957.7216, 8765.249, 12124.9924, 8798.593, 1711.0268, 21595.38229, 9850.431999999999, 12950.0712, 2250.8352, 22493.65964, 1704.70015, 11394.06555, 14394.5579, 9288.0267, 10594.50155, 4462.7218, 1981.5819, 11554.2236, 6548.19505, 8978.1851, 5757.41345, 14349.8544, 13974.45555, 1909.52745, 2102.2647, 15161.5344, 11884.04858, 4454.40265, 5855.9025, 4076.4970000000003, 10796.35025, 11353.2276, 9748.9106, 10577.087, 3591.48, 1674.6323, 11253.421, 3471.4096, 11363.2832, 20420.60465, 2904.0879999999997, 8605.3615, 2396.0959, 10807.4863, 9222.4026, 8347.1643, 10214.636, 14358.36437, 3693.428, 20709.02034, 19673.335730000003, 3704.3545, 9048.0273, 6338.0756, 9630.396999999999, 11289.10925, 10791.96, 5979.731, 5124.1887, 18963.171919999997, 10982.5013, 4670.64, 6457.8434, 4433.9159, 8603.8234, 5699.8375, 6393.60345, 6198.7518, 8733.22925, 2055.3249, 9964.06, 5116.5004, 12347.171999999999, 5373.36425, 23563.016180000002, 1702.4553, 12890.05765, 5415.6612, 4058.1161, 6593.5083, 8442.667, 6858.4796, 6640.54485, 7162.0122, 10594.2257, 11938.25595, 11345.518999999998, 2699.56835, 6985.50695, 1135.9407, 5615.369000000001, 6059.173000000001, 1241.565, 30063.58055, 3277.1609999999996, 8615.3, 3292.52985, 14478.33015, 4747.0529, 10959.33, 1720.3537, 7147.4728, 1515.3449, 9301.89355, 11931.12525, 1964.78, 1708.92575, 5261.46945, 6875.960999999999, 6940.90985, 4536.259, 11272.331390000001, 1163.4627, 19496.71917, 5425.02335, 12981.3457, 4239.89265, 13143.33665, 9377.9047, 10325.206, 10600.5483], \"xaxis\": \"x2\", \"yaxis\": \"y2\"}],\n",
              "                        {\"annotations\": [{\"font\": {}, \"showarrow\": false, \"text\": \"smoker=yes\", \"x\": 0.24, \"xanchor\": \"center\", \"xref\": \"paper\", \"y\": 1.0, \"yanchor\": \"bottom\", \"yref\": \"paper\"}, {\"font\": {}, \"showarrow\": false, \"text\": \"smoker=no\", \"x\": 0.74, \"xanchor\": \"center\", \"xref\": \"paper\", \"y\": 1.0, \"yanchor\": \"bottom\", \"yref\": \"paper\"}, {\"font\": {}, \"showarrow\": false, \"text\": \"sex=male\", \"textangle\": 90, \"x\": 0.98, \"xanchor\": \"left\", \"xref\": \"paper\", \"y\": 0.2425, \"yanchor\": \"middle\", \"yref\": \"paper\"}, {\"font\": {}, \"showarrow\": false, \"text\": \"sex=female\", \"textangle\": 90, \"x\": 0.98, \"xanchor\": \"left\", \"xref\": \"paper\", \"y\": 0.7575000000000001, \"yanchor\": \"middle\", \"yref\": \"paper\"}], \"barmode\": \"relative\", \"height\": 400, \"legend\": {\"tracegroupgap\": 0}, \"margin\": {\"t\": 60}, \"template\": {\"data\": {\"bar\": [{\"error_x\": {\"color\": \"#2a3f5f\"}, \"error_y\": {\"color\": \"#2a3f5f\"}, \"marker\": {\"line\": {\"color\": \"#E5ECF6\", \"width\": 0.5}}, \"type\": \"bar\"}], \"barpolar\": [{\"marker\": {\"line\": {\"color\": \"#E5ECF6\", \"width\": 0.5}}, \"type\": \"barpolar\"}], \"carpet\": [{\"aaxis\": {\"endlinecolor\": \"#2a3f5f\", \"gridcolor\": \"white\", \"linecolor\": \"white\", \"minorgridcolor\": \"white\", \"startlinecolor\": \"#2a3f5f\"}, \"baxis\": {\"endlinecolor\": \"#2a3f5f\", \"gridcolor\": \"white\", \"linecolor\": \"white\", \"minorgridcolor\": \"white\", \"startlinecolor\": \"#2a3f5f\"}, \"type\": \"carpet\"}], \"choropleth\": [{\"colorbar\": {\"outlinewidth\": 0, \"ticks\": \"\"}, \"type\": \"choropleth\"}], \"contour\": [{\"colorbar\": {\"outlinewidth\": 0, \"ticks\": \"\"}, \"colorscale\": [[0.0, \"#0d0887\"], [0.1111111111111111, \"#46039f\"], [0.2222222222222222, \"#7201a8\"], [0.3333333333333333, \"#9c179e\"], [0.4444444444444444, \"#bd3786\"], [0.5555555555555556, \"#d8576b\"], [0.6666666666666666, \"#ed7953\"], [0.7777777777777778, \"#fb9f3a\"], [0.8888888888888888, \"#fdca26\"], [1.0, \"#f0f921\"]], \"type\": \"contour\"}], \"contourcarpet\": [{\"colorbar\": {\"outlinewidth\": 0, \"ticks\": \"\"}, \"type\": \"contourcarpet\"}], \"heatmap\": [{\"colorbar\": {\"outlinewidth\": 0, \"ticks\": \"\"}, \"colorscale\": [[0.0, \"#0d0887\"], [0.1111111111111111, \"#46039f\"], [0.2222222222222222, \"#7201a8\"], [0.3333333333333333, \"#9c179e\"], [0.4444444444444444, \"#bd3786\"], [0.5555555555555556, \"#d8576b\"], [0.6666666666666666, \"#ed7953\"], [0.7777777777777778, \"#fb9f3a\"], [0.8888888888888888, \"#fdca26\"], [1.0, \"#f0f921\"]], \"type\": \"heatmap\"}], \"heatmapgl\": [{\"colorbar\": {\"outlinewidth\": 0, \"ticks\": \"\"}, \"colorscale\": [[0.0, \"#0d0887\"], [0.1111111111111111, \"#46039f\"], [0.2222222222222222, \"#7201a8\"], [0.3333333333333333, \"#9c179e\"], [0.4444444444444444, \"#bd3786\"], [0.5555555555555556, \"#d8576b\"], [0.6666666666666666, \"#ed7953\"], [0.7777777777777778, \"#fb9f3a\"], [0.8888888888888888, \"#fdca26\"], [1.0, \"#f0f921\"]], \"type\": \"heatmapgl\"}], \"histogram\": [{\"marker\": {\"colorbar\": {\"outlinewidth\": 0, \"ticks\": \"\"}}, \"type\": \"histogram\"}], \"histogram2d\": [{\"colorbar\": {\"outlinewidth\": 0, \"ticks\": \"\"}, \"colorscale\": [[0.0, \"#0d0887\"], [0.1111111111111111, \"#46039f\"], [0.2222222222222222, \"#7201a8\"], [0.3333333333333333, \"#9c179e\"], [0.4444444444444444, \"#bd3786\"], [0.5555555555555556, \"#d8576b\"], [0.6666666666666666, \"#ed7953\"], [0.7777777777777778, \"#fb9f3a\"], [0.8888888888888888, \"#fdca26\"], [1.0, \"#f0f921\"]], \"type\": \"histogram2d\"}], \"histogram2dcontour\": [{\"colorbar\": {\"outlinewidth\": 0, \"ticks\": \"\"}, \"colorscale\": [[0.0, \"#0d0887\"], [0.1111111111111111, \"#46039f\"], [0.2222222222222222, \"#7201a8\"], [0.3333333333333333, \"#9c179e\"], [0.4444444444444444, \"#bd3786\"], [0.5555555555555556, \"#d8576b\"], [0.6666666666666666, \"#ed7953\"], [0.7777777777777778, \"#fb9f3a\"], [0.8888888888888888, \"#fdca26\"], [1.0, \"#f0f921\"]], \"type\": \"histogram2dcontour\"}], \"mesh3d\": [{\"colorbar\": {\"outlinewidth\": 0, \"ticks\": \"\"}, \"type\": \"mesh3d\"}], \"parcoords\": [{\"line\": {\"colorbar\": {\"outlinewidth\": 0, \"ticks\": \"\"}}, \"type\": \"parcoords\"}], \"pie\": [{\"automargin\": true, \"type\": \"pie\"}], \"scatter\": [{\"marker\": {\"colorbar\": {\"outlinewidth\": 0, \"ticks\": \"\"}}, \"type\": \"scatter\"}], \"scatter3d\": [{\"line\": {\"colorbar\": {\"outlinewidth\": 0, \"ticks\": \"\"}}, \"marker\": {\"colorbar\": {\"outlinewidth\": 0, \"ticks\": \"\"}}, \"type\": \"scatter3d\"}], \"scattercarpet\": [{\"marker\": {\"colorbar\": {\"outlinewidth\": 0, \"ticks\": \"\"}}, \"type\": \"scattercarpet\"}], \"scattergeo\": [{\"marker\": {\"colorbar\": {\"outlinewidth\": 0, \"ticks\": \"\"}}, \"type\": \"scattergeo\"}], \"scattergl\": [{\"marker\": {\"colorbar\": {\"outlinewidth\": 0, \"ticks\": \"\"}}, \"type\": \"scattergl\"}], \"scattermapbox\": [{\"marker\": {\"colorbar\": {\"outlinewidth\": 0, \"ticks\": \"\"}}, \"type\": \"scattermapbox\"}], \"scatterpolar\": [{\"marker\": {\"colorbar\": {\"outlinewidth\": 0, \"ticks\": \"\"}}, \"type\": \"scatterpolar\"}], \"scatterpolargl\": [{\"marker\": {\"colorbar\": {\"outlinewidth\": 0, \"ticks\": \"\"}}, \"type\": \"scatterpolargl\"}], \"scatterternary\": [{\"marker\": {\"colorbar\": {\"outlinewidth\": 0, \"ticks\": \"\"}}, \"type\": \"scatterternary\"}], \"surface\": [{\"colorbar\": {\"outlinewidth\": 0, \"ticks\": \"\"}, \"colorscale\": [[0.0, \"#0d0887\"], [0.1111111111111111, \"#46039f\"], [0.2222222222222222, \"#7201a8\"], [0.3333333333333333, \"#9c179e\"], [0.4444444444444444, \"#bd3786\"], [0.5555555555555556, \"#d8576b\"], [0.6666666666666666, \"#ed7953\"], [0.7777777777777778, \"#fb9f3a\"], [0.8888888888888888, \"#fdca26\"], [1.0, \"#f0f921\"]], \"type\": \"surface\"}], \"table\": [{\"cells\": {\"fill\": {\"color\": \"#EBF0F8\"}, \"line\": {\"color\": \"white\"}}, \"header\": {\"fill\": {\"color\": \"#C8D4E3\"}, \"line\": {\"color\": \"white\"}}, \"type\": \"table\"}]}, \"layout\": {\"annotationdefaults\": {\"arrowcolor\": \"#2a3f5f\", \"arrowhead\": 0, \"arrowwidth\": 1}, \"coloraxis\": {\"colorbar\": {\"outlinewidth\": 0, \"ticks\": \"\"}}, \"colorscale\": {\"diverging\": [[0, \"#8e0152\"], [0.1, \"#c51b7d\"], [0.2, \"#de77ae\"], [0.3, \"#f1b6da\"], [0.4, \"#fde0ef\"], [0.5, \"#f7f7f7\"], [0.6, \"#e6f5d0\"], [0.7, \"#b8e186\"], [0.8, \"#7fbc41\"], [0.9, \"#4d9221\"], [1, \"#276419\"]], \"sequential\": [[0.0, \"#0d0887\"], [0.1111111111111111, \"#46039f\"], [0.2222222222222222, \"#7201a8\"], [0.3333333333333333, \"#9c179e\"], [0.4444444444444444, \"#bd3786\"], [0.5555555555555556, \"#d8576b\"], [0.6666666666666666, \"#ed7953\"], [0.7777777777777778, \"#fb9f3a\"], [0.8888888888888888, \"#fdca26\"], [1.0, \"#f0f921\"]], \"sequentialminus\": [[0.0, \"#0d0887\"], [0.1111111111111111, \"#46039f\"], [0.2222222222222222, \"#7201a8\"], [0.3333333333333333, \"#9c179e\"], [0.4444444444444444, \"#bd3786\"], [0.5555555555555556, \"#d8576b\"], [0.6666666666666666, \"#ed7953\"], [0.7777777777777778, \"#fb9f3a\"], [0.8888888888888888, \"#fdca26\"], [1.0, \"#f0f921\"]]}, \"colorway\": [\"#636efa\", \"#EF553B\", \"#00cc96\", \"#ab63fa\", \"#FFA15A\", \"#19d3f3\", \"#FF6692\", \"#B6E880\", \"#FF97FF\", \"#FECB52\"], \"font\": {\"color\": \"#2a3f5f\"}, \"geo\": {\"bgcolor\": \"white\", \"lakecolor\": \"white\", \"landcolor\": \"#E5ECF6\", \"showlakes\": true, \"showland\": true, \"subunitcolor\": \"white\"}, \"hoverlabel\": {\"align\": \"left\"}, \"hovermode\": \"closest\", \"mapbox\": {\"style\": \"light\"}, \"paper_bgcolor\": \"white\", \"plot_bgcolor\": \"#E5ECF6\", \"polar\": {\"angularaxis\": {\"gridcolor\": \"white\", \"linecolor\": \"white\", \"ticks\": \"\"}, \"bgcolor\": \"#E5ECF6\", \"radialaxis\": {\"gridcolor\": \"white\", \"linecolor\": \"white\", \"ticks\": \"\"}}, \"scene\": {\"xaxis\": {\"backgroundcolor\": \"#E5ECF6\", \"gridcolor\": \"white\", \"gridwidth\": 2, \"linecolor\": \"white\", \"showbackground\": true, \"ticks\": \"\", \"zerolinecolor\": \"white\"}, \"yaxis\": {\"backgroundcolor\": \"#E5ECF6\", \"gridcolor\": \"white\", \"gridwidth\": 2, \"linecolor\": \"white\", \"showbackground\": true, \"ticks\": \"\", \"zerolinecolor\": \"white\"}, \"zaxis\": {\"backgroundcolor\": \"#E5ECF6\", \"gridcolor\": \"white\", \"gridwidth\": 2, \"linecolor\": \"white\", \"showbackground\": true, \"ticks\": \"\", \"zerolinecolor\": \"white\"}}, \"shapedefaults\": {\"line\": {\"color\": \"#2a3f5f\"}}, \"ternary\": {\"aaxis\": {\"gridcolor\": \"white\", \"linecolor\": \"white\", \"ticks\": \"\"}, \"baxis\": {\"gridcolor\": \"white\", \"linecolor\": \"white\", \"ticks\": \"\"}, \"bgcolor\": \"#E5ECF6\", \"caxis\": {\"gridcolor\": \"white\", \"linecolor\": \"white\", \"ticks\": \"\"}}, \"title\": {\"x\": 0.05}, \"xaxis\": {\"automargin\": true, \"gridcolor\": \"white\", \"linecolor\": \"white\", \"ticks\": \"\", \"title\": {\"standoff\": 15}, \"zerolinecolor\": \"white\", \"zerolinewidth\": 2}, \"yaxis\": {\"automargin\": true, \"gridcolor\": \"white\", \"linecolor\": \"white\", \"ticks\": \"\", \"title\": {\"standoff\": 15}, \"zerolinecolor\": \"white\", \"zerolinewidth\": 2}}}, \"width\": 700, \"xaxis\": {\"anchor\": \"y\", \"domain\": [0.0, 0.48], \"title\": {\"text\": \"charges\"}}, \"xaxis2\": {\"anchor\": \"y2\", \"domain\": [0.5, 0.98], \"matches\": \"x\", \"title\": {\"text\": \"charges\"}}, \"xaxis3\": {\"anchor\": \"y3\", \"domain\": [0.0, 0.48], \"matches\": \"x\", \"showticklabels\": false}, \"xaxis4\": {\"anchor\": \"y4\", \"domain\": [0.5, 0.98], \"matches\": \"x\", \"showticklabels\": false}, \"yaxis\": {\"anchor\": \"x\", \"domain\": [0.0, 0.485], \"title\": {\"text\": \"count\"}}, \"yaxis2\": {\"anchor\": \"x2\", \"domain\": [0.0, 0.485], \"matches\": \"y\", \"showticklabels\": false}, \"yaxis3\": {\"anchor\": \"x3\", \"domain\": [0.515, 1.0], \"matches\": \"y\", \"title\": {\"text\": \"count\"}}, \"yaxis4\": {\"anchor\": \"x4\", \"domain\": [0.515, 1.0], \"matches\": \"y\", \"showticklabels\": false}},\n",
              "                        {\"responsive\": true}\n",
              "                    ).then(function(){\n",
              "                            \n",
              "var gd = document.getElementById('6cce6b07-a691-46b6-b4c5-b476a481986c');\n",
              "var x = new MutationObserver(function (mutations, observer) {{\n",
              "        var display = window.getComputedStyle(gd).display;\n",
              "        if (!display || display === 'none') {{\n",
              "            console.log([gd, 'removed!']);\n",
              "            Plotly.purge(gd);\n",
              "            observer.disconnect();\n",
              "        }}\n",
              "}});\n",
              "\n",
              "// Listen for the removal of the full notebook cells\n",
              "var notebookContainer = gd.closest('#notebook-container');\n",
              "if (notebookContainer) {{\n",
              "    x.observe(notebookContainer, {childList: true});\n",
              "}}\n",
              "\n",
              "// Listen for the clearing of the current output cell\n",
              "var outputEl = gd.closest('.output');\n",
              "if (outputEl) {{\n",
              "    x.observe(outputEl, {childList: true});\n",
              "}}\n",
              "\n",
              "                        })\n",
              "                };\n",
              "                \n",
              "            </script>\n",
              "        </div>\n",
              "</body>\n",
              "</html>"
            ]
          },
          "metadata": {
            "tags": []
          }
        }
      ]
    },
    {
      "cell_type": "code",
      "metadata": {
        "id": "Zvz6tIT1b90M",
        "outputId": "0d3156a0-861f-42f4-a3ba-db2f38f8a218",
        "colab": {
          "base_uri": "https://localhost:8080/",
          "height": 417
        }
      },
      "source": [
        "px.histogram(df, x='smoker', facet_col='sex', color='sex', width=700, height=400)"
      ],
      "execution_count": null,
      "outputs": [
        {
          "output_type": "display_data",
          "data": {
            "text/html": [
              "<html>\n",
              "<head><meta charset=\"utf-8\" /></head>\n",
              "<body>\n",
              "    <div>\n",
              "            <script src=\"https://cdnjs.cloudflare.com/ajax/libs/mathjax/2.7.5/MathJax.js?config=TeX-AMS-MML_SVG\"></script><script type=\"text/javascript\">if (window.MathJax) {MathJax.Hub.Config({SVG: {font: \"STIX-Web\"}});}</script>\n",
              "                <script type=\"text/javascript\">window.PlotlyConfig = {MathJaxConfig: 'local'};</script>\n",
              "        <script src=\"https://cdn.plot.ly/plotly-latest.min.js\"></script>    \n",
              "            <div id=\"e3f512e8-8f19-4b26-ac67-bef16dda886c\" class=\"plotly-graph-div\" style=\"height:400px; width:700px;\"></div>\n",
              "            <script type=\"text/javascript\">\n",
              "                \n",
              "                    window.PLOTLYENV=window.PLOTLYENV || {};\n",
              "                    \n",
              "                if (document.getElementById(\"e3f512e8-8f19-4b26-ac67-bef16dda886c\")) {\n",
              "                    Plotly.newPlot(\n",
              "                        'e3f512e8-8f19-4b26-ac67-bef16dda886c',\n",
              "                        [{\"alignmentgroup\": \"True\", \"bingroup\": \"x\", \"hoverlabel\": {\"namelength\": 0}, \"hovertemplate\": \"sex=female<br>smoker=%{x}<br>count=%{y}\", \"legendgroup\": \"sex=female\", \"marker\": {\"color\": \"#636efa\"}, \"name\": \"sex=female\", \"offsetgroup\": \"sex=female\", \"orientation\": \"v\", \"showlegend\": true, \"type\": \"histogram\", \"x\": [\"yes\", \"no\", \"no\", \"no\", \"no\", \"yes\", \"no\", \"no\", \"no\", \"no\", \"yes\", \"no\", \"no\", \"no\", \"no\", \"no\", \"no\", \"no\", \"no\", \"no\", \"no\", \"no\", \"no\", \"no\", \"no\", \"no\", \"no\", \"yes\", \"no\", \"no\", \"yes\", \"no\", \"no\", \"no\", \"yes\", \"no\", \"no\", \"no\", \"no\", \"no\", \"no\", \"yes\", \"yes\", \"no\", \"no\", \"no\", \"no\", \"no\", \"yes\", \"no\", \"no\", \"no\", \"no\", \"yes\", \"no\", \"no\", \"no\", \"no\", \"yes\", \"no\", \"no\", \"no\", \"no\", \"no\", \"yes\", \"no\", \"yes\", \"no\", \"no\", \"no\", \"no\", \"no\", \"no\", \"no\", \"no\", \"no\", \"no\", \"no\", \"yes\", \"no\", \"no\", \"yes\", \"yes\", \"no\", \"no\", \"no\", \"no\", \"no\", \"no\", \"yes\", \"no\", \"no\", \"no\", \"no\", \"no\", \"no\", \"no\", \"no\", \"no\", \"no\", \"no\", \"no\", \"no\", \"no\", \"no\", \"no\", \"no\", \"yes\", \"no\", \"no\", \"no\", \"no\", \"no\", \"no\", \"no\", \"no\", \"no\", \"no\", \"no\", \"no\", \"no\", \"no\", \"no\", \"yes\", \"no\", \"yes\", \"no\", \"no\", \"yes\", \"no\", \"yes\", \"no\", \"no\", \"no\", \"yes\", \"no\", \"no\", \"no\", \"no\", \"no\", \"yes\", \"no\", \"no\", \"no\", \"no\", \"yes\", \"no\", \"no\", \"no\", \"yes\", \"no\", \"no\", \"no\", \"no\", \"no\", \"no\", \"no\", \"yes\", \"no\", \"no\", \"no\", \"yes\", \"yes\", \"no\", \"no\", \"no\", \"no\", \"no\", \"no\", \"no\", \"no\", \"no\", \"no\", \"no\", \"no\", \"no\", \"no\", \"no\", \"yes\", \"no\", \"no\", \"no\", \"no\", \"no\", \"no\", \"no\", \"no\", \"yes\", \"yes\", \"no\", \"yes\", \"no\", \"no\", \"no\", \"no\", \"no\", \"no\", \"no\", \"no\", \"no\", \"no\", \"no\", \"no\", \"no\", \"yes\", \"yes\", \"no\", \"no\", \"yes\", \"yes\", \"no\", \"no\", \"no\", \"no\", \"no\", \"no\", \"no\", \"no\", \"yes\", \"no\", \"no\", \"no\", \"no\", \"no\", \"no\", \"no\", \"no\", \"no\", \"yes\", \"no\", \"no\", \"no\", \"no\", \"no\", \"no\", \"no\", \"no\", \"no\", \"no\", \"no\", \"yes\", \"no\", \"no\", \"no\", \"no\", \"no\", \"no\", \"no\", \"no\", \"no\", \"no\", \"no\", \"no\", \"no\", \"no\", \"no\", \"no\", \"no\", \"no\", \"no\", \"no\", \"no\", \"no\", \"no\", \"no\", \"yes\", \"no\", \"no\", \"yes\", \"no\", \"no\", \"no\", \"yes\", \"no\", \"no\", \"no\", \"no\", \"no\", \"no\", \"no\", \"no\", \"no\", \"no\", \"no\", \"no\", \"yes\", \"no\", \"no\", \"no\", \"yes\", \"no\", \"no\", \"no\", \"yes\", \"no\", \"no\", \"no\", \"no\", \"no\", \"no\", \"no\", \"yes\", \"no\", \"no\", \"yes\", \"no\", \"no\", \"no\", \"no\", \"no\", \"yes\", \"no\", \"yes\", \"no\", \"no\", \"no\", \"yes\", \"no\", \"no\", \"no\", \"no\", \"no\", \"no\", \"no\", \"no\", \"no\", \"no\", \"no\", \"yes\", \"no\", \"no\", \"no\", \"no\", \"no\", \"yes\", \"yes\", \"no\", \"no\", \"no\", \"yes\", \"no\", \"no\", \"no\", \"no\", \"no\", \"no\", \"no\", \"no\", \"no\", \"no\", \"no\", \"no\", \"no\", \"no\", \"yes\", \"no\", \"no\", \"no\", \"no\", \"no\", \"no\", \"no\", \"no\", \"no\", \"no\", \"yes\", \"yes\", \"no\", \"no\", \"no\", \"no\", \"no\", \"no\", \"yes\", \"no\", \"no\", \"no\", \"yes\", \"no\", \"no\", \"yes\", \"no\", \"no\", \"no\", \"no\", \"no\", \"no\", \"no\", \"no\", \"yes\", \"yes\", \"no\", \"no\", \"no\", \"no\", \"no\", \"no\", \"no\", \"no\", \"no\", \"no\", \"yes\", \"no\", \"no\", \"no\", \"no\", \"no\", \"no\", \"no\", \"yes\", \"yes\", \"no\", \"no\", \"no\", \"no\", \"no\", \"no\", \"no\", \"no\", \"yes\", \"yes\", \"yes\", \"no\", \"no\", \"yes\", \"yes\", \"no\", \"yes\", \"no\", \"yes\", \"no\", \"yes\", \"no\", \"no\", \"no\", \"no\", \"no\", \"no\", \"no\", \"no\", \"no\", \"yes\", \"no\", \"yes\", \"no\", \"no\", \"yes\", \"no\", \"no\", \"no\", \"no\", \"no\", \"yes\", \"no\", \"no\", \"no\", \"yes\", \"no\", \"no\", \"no\", \"no\", \"no\", \"no\", \"no\", \"no\", \"no\", \"no\", \"no\", \"no\", \"no\", \"no\", \"no\", \"no\", \"no\", \"no\", \"no\", \"no\", \"no\", \"no\", \"no\", \"no\", \"no\", \"no\", \"no\", \"no\", \"yes\", \"no\", \"no\", \"no\", \"yes\", \"no\", \"no\", \"no\", \"no\", \"no\", \"no\", \"no\", \"no\", \"no\", \"no\", \"no\", \"no\", \"yes\", \"no\", \"no\", \"no\", \"yes\", \"yes\", \"no\", \"no\", \"yes\", \"yes\", \"no\", \"yes\", \"no\", \"no\", \"no\", \"no\", \"no\", \"no\", \"no\", \"no\", \"no\", \"no\", \"no\", \"no\", \"no\", \"no\", \"no\", \"yes\", \"no\", \"yes\", \"no\", \"no\", \"yes\", \"no\", \"no\", \"yes\", \"no\", \"no\", \"no\", \"no\", \"yes\", \"no\", \"no\", \"yes\", \"yes\", \"no\", \"yes\", \"no\", \"no\", \"no\", \"no\", \"no\", \"no\", \"no\", \"no\", \"yes\", \"no\", \"no\", \"no\", \"no\", \"no\", \"yes\", \"no\", \"no\", \"no\", \"no\", \"no\", \"no\", \"no\", \"no\", \"no\", \"no\", \"no\", \"no\", \"yes\", \"no\", \"no\", \"yes\", \"no\", \"no\", \"no\", \"no\", \"no\", \"no\", \"yes\", \"no\", \"yes\", \"no\", \"no\", \"no\", \"no\", \"no\", \"no\", \"no\", \"yes\", \"no\", \"yes\", \"no\", \"yes\", \"no\", \"no\", \"yes\", \"no\", \"no\", \"yes\", \"no\", \"yes\", \"no\", \"no\", \"no\", \"no\", \"no\", \"no\", \"no\", \"no\", \"no\", \"no\", \"no\", \"no\", \"no\", \"no\", \"no\", \"no\", \"no\", \"no\", \"no\", \"no\", \"no\", \"no\", \"no\", \"no\", \"no\", \"no\", \"yes\", \"yes\", \"no\", \"no\", \"no\", \"no\", \"no\", \"no\", \"no\", \"no\", \"yes\", \"yes\", \"no\", \"yes\", \"yes\", \"no\", \"no\", \"yes\", \"no\", \"no\", \"no\", \"no\", \"no\", \"no\", \"no\", \"no\", \"yes\"], \"xaxis\": \"x\", \"yaxis\": \"y\"}, {\"alignmentgroup\": \"True\", \"bingroup\": \"x\", \"hoverlabel\": {\"namelength\": 0}, \"hovertemplate\": \"sex=male<br>smoker=%{x}<br>count=%{y}\", \"legendgroup\": \"sex=male\", \"marker\": {\"color\": \"#EF553B\"}, \"name\": \"sex=male\", \"offsetgroup\": \"sex=male\", \"orientation\": \"v\", \"showlegend\": true, \"type\": \"histogram\", \"x\": [\"no\", \"no\", \"no\", \"no\", \"no\", \"no\", \"no\", \"yes\", \"no\", \"no\", \"no\", \"yes\", \"no\", \"no\", \"no\", \"yes\", \"yes\", \"no\", \"yes\", \"no\", \"no\", \"yes\", \"yes\", \"no\", \"no\", \"no\", \"yes\", \"yes\", \"yes\", \"yes\", \"yes\", \"no\", \"no\", \"no\", \"no\", \"yes\", \"no\", \"no\", \"no\", \"no\", \"no\", \"no\", \"yes\", \"yes\", \"yes\", \"no\", \"no\", \"yes\", \"yes\", \"no\", \"yes\", \"no\", \"no\", \"yes\", \"no\", \"no\", \"no\", \"no\", \"no\", \"no\", \"no\", \"yes\", \"no\", \"no\", \"no\", \"no\", \"no\", \"no\", \"yes\", \"no\", \"yes\", \"yes\", \"no\", \"no\", \"no\", \"no\", \"yes\", \"yes\", \"yes\", \"no\", \"no\", \"no\", \"no\", \"no\", \"no\", \"no\", \"no\", \"no\", \"no\", \"no\", \"no\", \"yes\", \"no\", \"no\", \"no\", \"no\", \"no\", \"no\", \"yes\", \"no\", \"no\", \"no\", \"no\", \"no\", \"no\", \"yes\", \"yes\", \"no\", \"no\", \"no\", \"no\", \"no\", \"no\", \"yes\", \"no\", \"no\", \"no\", \"no\", \"no\", \"no\", \"yes\", \"yes\", \"no\", \"yes\", \"yes\", \"no\", \"yes\", \"yes\", \"yes\", \"yes\", \"yes\", \"no\", \"no\", \"no\", \"yes\", \"no\", \"no\", \"no\", \"no\", \"no\", \"yes\", \"no\", \"no\", \"no\", \"no\", \"yes\", \"no\", \"no\", \"yes\", \"yes\", \"yes\", \"no\", \"no\", \"no\", \"no\", \"yes\", \"no\", \"no\", \"no\", \"no\", \"no\", \"no\", \"yes\", \"no\", \"no\", \"no\", \"yes\", \"no\", \"yes\", \"no\", \"no\", \"no\", \"yes\", \"no\", \"no\", \"no\", \"no\", \"no\", \"no\", \"no\", \"no\", \"no\", \"no\", \"no\", \"no\", \"no\", \"yes\", \"no\", \"yes\", \"no\", \"yes\", \"no\", \"no\", \"no\", \"no\", \"no\", \"no\", \"no\", \"no\", \"no\", \"no\", \"no\", \"no\", \"no\", \"no\", \"no\", \"no\", \"no\", \"no\", \"no\", \"yes\", \"yes\", \"yes\", \"no\", \"no\", \"no\", \"no\", \"no\", \"no\", \"no\", \"no\", \"no\", \"no\", \"no\", \"yes\", \"no\", \"no\", \"no\", \"no\", \"no\", \"no\", \"no\", \"no\", \"no\", \"yes\", \"no\", \"no\", \"no\", \"yes\", \"yes\", \"yes\", \"no\", \"no\", \"no\", \"no\", \"no\", \"no\", \"no\", \"no\", \"no\", \"yes\", \"no\", \"no\", \"yes\", \"no\", \"yes\", \"yes\", \"no\", \"no\", \"no\", \"no\", \"no\", \"no\", \"no\", \"yes\", \"no\", \"no\", \"no\", \"no\", \"yes\", \"no\", \"no\", \"yes\", \"no\", \"no\", \"no\", \"no\", \"no\", \"no\", \"yes\", \"no\", \"no\", \"no\", \"no\", \"no\", \"no\", \"no\", \"no\", \"no\", \"no\", \"yes\", \"no\", \"no\", \"no\", \"no\", \"no\", \"no\", \"no\", \"no\", \"no\", \"no\", \"no\", \"no\", \"yes\", \"yes\", \"no\", \"yes\", \"yes\", \"no\", \"no\", \"no\", \"no\", \"no\", \"no\", \"no\", \"no\", \"no\", \"yes\", \"no\", \"no\", \"yes\", \"no\", \"no\", \"no\", \"no\", \"no\", \"no\", \"no\", \"no\", \"yes\", \"no\", \"yes\", \"no\", \"no\", \"no\", \"yes\", \"no\", \"no\", \"yes\", \"no\", \"no\", \"no\", \"no\", \"yes\", \"no\", \"no\", \"no\", \"no\", \"yes\", \"no\", \"no\", \"no\", \"no\", \"no\", \"no\", \"no\", \"no\", \"no\", \"no\", \"no\", \"yes\", \"no\", \"no\", \"yes\", \"yes\", \"no\", \"yes\", \"yes\", \"no\", \"no\", \"no\", \"no\", \"no\", \"no\", \"no\", \"no\", \"no\", \"yes\", \"no\", \"yes\", \"no\", \"no\", \"no\", \"no\", \"no\", \"no\", \"no\", \"no\", \"no\", \"yes\", \"no\", \"no\", \"no\", \"no\", \"no\", \"no\", \"yes\", \"yes\", \"no\", \"yes\", \"no\", \"no\", \"no\", \"no\", \"no\", \"no\", \"no\", \"no\", \"no\", \"no\", \"no\", \"yes\", \"yes\", \"yes\", \"no\", \"no\", \"no\", \"no\", \"no\", \"no\", \"no\", \"no\", \"no\", \"no\", \"no\", \"no\", \"yes\", \"no\", \"no\", \"no\", \"no\", \"no\", \"no\", \"no\", \"no\", \"no\", \"no\", \"no\", \"no\", \"no\", \"no\", \"no\", \"yes\", \"yes\", \"no\", \"no\", \"no\", \"yes\", \"no\", \"no\", \"no\", \"yes\", \"no\", \"no\", \"no\", \"no\", \"no\", \"yes\", \"no\", \"yes\", \"no\", \"no\", \"no\", \"no\", \"no\", \"no\", \"no\", \"no\", \"no\", \"no\", \"no\", \"no\", \"no\", \"no\", \"no\", \"yes\", \"no\", \"yes\", \"no\", \"yes\", \"yes\", \"yes\", \"no\", \"yes\", \"no\", \"yes\", \"no\", \"no\", \"no\", \"no\", \"yes\", \"no\", \"no\", \"no\", \"yes\", \"no\", \"no\", \"no\", \"no\", \"yes\", \"no\", \"no\", \"no\", \"no\", \"yes\", \"yes\", \"no\", \"no\", \"no\", \"no\", \"no\", \"yes\", \"no\", \"no\", \"yes\", \"no\", \"no\", \"no\", \"yes\", \"no\", \"yes\", \"no\", \"no\", \"yes\", \"no\", \"yes\", \"no\", \"no\", \"no\", \"yes\", \"no\", \"yes\", \"yes\", \"no\", \"no\", \"yes\", \"no\", \"no\", \"no\", \"no\", \"yes\", \"no\", \"no\", \"no\", \"no\", \"yes\", \"no\", \"no\", \"no\", \"yes\", \"no\", \"no\", \"no\", \"no\", \"no\", \"no\", \"no\", \"no\", \"no\", \"yes\", \"no\", \"no\", \"no\", \"no\", \"no\", \"no\", \"no\", \"no\", \"yes\", \"no\", \"no\", \"no\", \"yes\", \"yes\", \"no\", \"no\", \"no\", \"no\", \"no\", \"no\", \"no\", \"no\", \"no\", \"no\", \"no\", \"yes\", \"no\", \"no\", \"yes\", \"no\", \"no\", \"no\", \"no\", \"yes\", \"no\", \"no\", \"yes\", \"no\", \"yes\", \"no\", \"no\", \"no\", \"no\", \"no\", \"no\", \"no\", \"yes\", \"no\", \"no\", \"no\", \"no\", \"no\", \"no\", \"no\", \"no\", \"no\", \"no\", \"no\", \"no\", \"no\", \"no\", \"yes\", \"no\", \"no\", \"no\", \"yes\", \"yes\", \"no\", \"no\", \"no\", \"yes\", \"yes\", \"no\", \"yes\", \"no\", \"no\", \"yes\", \"yes\", \"no\", \"no\", \"no\", \"no\", \"yes\", \"no\", \"yes\", \"no\", \"yes\", \"yes\", \"no\", \"yes\", \"no\", \"no\", \"no\", \"no\", \"no\", \"no\", \"yes\", \"yes\", \"yes\", \"yes\", \"yes\", \"no\", \"no\", \"no\", \"no\", \"no\", \"no\", \"no\", \"yes\", \"no\", \"no\", \"no\", \"no\", \"no\", \"no\"], \"xaxis\": \"x2\", \"yaxis\": \"y2\"}],\n",
              "                        {\"annotations\": [{\"font\": {}, \"showarrow\": false, \"text\": \"sex=female\", \"x\": 0.245, \"xanchor\": \"center\", \"xref\": \"paper\", \"y\": 1.0, \"yanchor\": \"bottom\", \"yref\": \"paper\"}, {\"font\": {}, \"showarrow\": false, \"text\": \"sex=male\", \"x\": 0.755, \"xanchor\": \"center\", \"xref\": \"paper\", \"y\": 1.0, \"yanchor\": \"bottom\", \"yref\": \"paper\"}], \"barmode\": \"relative\", \"height\": 400, \"legend\": {\"tracegroupgap\": 0}, \"margin\": {\"t\": 60}, \"template\": {\"data\": {\"bar\": [{\"error_x\": {\"color\": \"#2a3f5f\"}, \"error_y\": {\"color\": \"#2a3f5f\"}, \"marker\": {\"line\": {\"color\": \"#E5ECF6\", \"width\": 0.5}}, \"type\": \"bar\"}], \"barpolar\": [{\"marker\": {\"line\": {\"color\": \"#E5ECF6\", \"width\": 0.5}}, \"type\": \"barpolar\"}], \"carpet\": [{\"aaxis\": {\"endlinecolor\": \"#2a3f5f\", \"gridcolor\": \"white\", \"linecolor\": \"white\", \"minorgridcolor\": \"white\", \"startlinecolor\": \"#2a3f5f\"}, \"baxis\": {\"endlinecolor\": \"#2a3f5f\", \"gridcolor\": \"white\", \"linecolor\": \"white\", \"minorgridcolor\": \"white\", \"startlinecolor\": \"#2a3f5f\"}, \"type\": \"carpet\"}], \"choropleth\": [{\"colorbar\": {\"outlinewidth\": 0, \"ticks\": \"\"}, \"type\": \"choropleth\"}], \"contour\": [{\"colorbar\": {\"outlinewidth\": 0, \"ticks\": \"\"}, \"colorscale\": [[0.0, \"#0d0887\"], [0.1111111111111111, \"#46039f\"], [0.2222222222222222, \"#7201a8\"], [0.3333333333333333, \"#9c179e\"], [0.4444444444444444, \"#bd3786\"], [0.5555555555555556, \"#d8576b\"], [0.6666666666666666, \"#ed7953\"], [0.7777777777777778, \"#fb9f3a\"], [0.8888888888888888, \"#fdca26\"], [1.0, \"#f0f921\"]], \"type\": \"contour\"}], \"contourcarpet\": [{\"colorbar\": {\"outlinewidth\": 0, \"ticks\": \"\"}, \"type\": \"contourcarpet\"}], \"heatmap\": [{\"colorbar\": {\"outlinewidth\": 0, \"ticks\": \"\"}, \"colorscale\": [[0.0, \"#0d0887\"], [0.1111111111111111, \"#46039f\"], [0.2222222222222222, \"#7201a8\"], [0.3333333333333333, \"#9c179e\"], [0.4444444444444444, \"#bd3786\"], [0.5555555555555556, \"#d8576b\"], [0.6666666666666666, \"#ed7953\"], [0.7777777777777778, \"#fb9f3a\"], [0.8888888888888888, \"#fdca26\"], [1.0, \"#f0f921\"]], \"type\": \"heatmap\"}], \"heatmapgl\": [{\"colorbar\": {\"outlinewidth\": 0, \"ticks\": \"\"}, \"colorscale\": [[0.0, \"#0d0887\"], [0.1111111111111111, \"#46039f\"], [0.2222222222222222, \"#7201a8\"], [0.3333333333333333, \"#9c179e\"], [0.4444444444444444, \"#bd3786\"], [0.5555555555555556, \"#d8576b\"], [0.6666666666666666, \"#ed7953\"], [0.7777777777777778, \"#fb9f3a\"], [0.8888888888888888, \"#fdca26\"], [1.0, \"#f0f921\"]], \"type\": \"heatmapgl\"}], \"histogram\": [{\"marker\": {\"colorbar\": {\"outlinewidth\": 0, \"ticks\": \"\"}}, \"type\": \"histogram\"}], \"histogram2d\": [{\"colorbar\": {\"outlinewidth\": 0, \"ticks\": \"\"}, \"colorscale\": [[0.0, \"#0d0887\"], [0.1111111111111111, \"#46039f\"], [0.2222222222222222, \"#7201a8\"], [0.3333333333333333, \"#9c179e\"], [0.4444444444444444, \"#bd3786\"], [0.5555555555555556, \"#d8576b\"], [0.6666666666666666, \"#ed7953\"], [0.7777777777777778, \"#fb9f3a\"], [0.8888888888888888, \"#fdca26\"], [1.0, \"#f0f921\"]], \"type\": \"histogram2d\"}], \"histogram2dcontour\": [{\"colorbar\": {\"outlinewidth\": 0, \"ticks\": \"\"}, \"colorscale\": [[0.0, \"#0d0887\"], [0.1111111111111111, \"#46039f\"], [0.2222222222222222, \"#7201a8\"], [0.3333333333333333, \"#9c179e\"], [0.4444444444444444, \"#bd3786\"], [0.5555555555555556, \"#d8576b\"], [0.6666666666666666, \"#ed7953\"], [0.7777777777777778, \"#fb9f3a\"], [0.8888888888888888, \"#fdca26\"], [1.0, \"#f0f921\"]], \"type\": \"histogram2dcontour\"}], \"mesh3d\": [{\"colorbar\": {\"outlinewidth\": 0, \"ticks\": \"\"}, \"type\": \"mesh3d\"}], \"parcoords\": [{\"line\": {\"colorbar\": {\"outlinewidth\": 0, \"ticks\": \"\"}}, \"type\": \"parcoords\"}], \"pie\": [{\"automargin\": true, \"type\": \"pie\"}], \"scatter\": [{\"marker\": {\"colorbar\": {\"outlinewidth\": 0, \"ticks\": \"\"}}, \"type\": \"scatter\"}], \"scatter3d\": [{\"line\": {\"colorbar\": {\"outlinewidth\": 0, \"ticks\": \"\"}}, \"marker\": {\"colorbar\": {\"outlinewidth\": 0, \"ticks\": \"\"}}, \"type\": \"scatter3d\"}], \"scattercarpet\": [{\"marker\": {\"colorbar\": {\"outlinewidth\": 0, \"ticks\": \"\"}}, \"type\": \"scattercarpet\"}], \"scattergeo\": [{\"marker\": {\"colorbar\": {\"outlinewidth\": 0, \"ticks\": \"\"}}, \"type\": \"scattergeo\"}], \"scattergl\": [{\"marker\": {\"colorbar\": {\"outlinewidth\": 0, \"ticks\": \"\"}}, \"type\": \"scattergl\"}], \"scattermapbox\": [{\"marker\": {\"colorbar\": {\"outlinewidth\": 0, \"ticks\": \"\"}}, \"type\": \"scattermapbox\"}], \"scatterpolar\": [{\"marker\": {\"colorbar\": {\"outlinewidth\": 0, \"ticks\": \"\"}}, \"type\": \"scatterpolar\"}], \"scatterpolargl\": [{\"marker\": {\"colorbar\": {\"outlinewidth\": 0, \"ticks\": \"\"}}, \"type\": \"scatterpolargl\"}], \"scatterternary\": [{\"marker\": {\"colorbar\": {\"outlinewidth\": 0, \"ticks\": \"\"}}, \"type\": \"scatterternary\"}], \"surface\": [{\"colorbar\": {\"outlinewidth\": 0, \"ticks\": \"\"}, \"colorscale\": [[0.0, \"#0d0887\"], [0.1111111111111111, \"#46039f\"], [0.2222222222222222, \"#7201a8\"], [0.3333333333333333, \"#9c179e\"], [0.4444444444444444, \"#bd3786\"], [0.5555555555555556, \"#d8576b\"], [0.6666666666666666, \"#ed7953\"], [0.7777777777777778, \"#fb9f3a\"], [0.8888888888888888, \"#fdca26\"], [1.0, \"#f0f921\"]], \"type\": \"surface\"}], \"table\": [{\"cells\": {\"fill\": {\"color\": \"#EBF0F8\"}, \"line\": {\"color\": \"white\"}}, \"header\": {\"fill\": {\"color\": \"#C8D4E3\"}, \"line\": {\"color\": \"white\"}}, \"type\": \"table\"}]}, \"layout\": {\"annotationdefaults\": {\"arrowcolor\": \"#2a3f5f\", \"arrowhead\": 0, \"arrowwidth\": 1}, \"coloraxis\": {\"colorbar\": {\"outlinewidth\": 0, \"ticks\": \"\"}}, \"colorscale\": {\"diverging\": [[0, \"#8e0152\"], [0.1, \"#c51b7d\"], [0.2, \"#de77ae\"], [0.3, \"#f1b6da\"], [0.4, \"#fde0ef\"], [0.5, \"#f7f7f7\"], [0.6, \"#e6f5d0\"], [0.7, \"#b8e186\"], [0.8, \"#7fbc41\"], [0.9, \"#4d9221\"], [1, \"#276419\"]], \"sequential\": [[0.0, \"#0d0887\"], [0.1111111111111111, \"#46039f\"], [0.2222222222222222, \"#7201a8\"], [0.3333333333333333, \"#9c179e\"], [0.4444444444444444, \"#bd3786\"], [0.5555555555555556, \"#d8576b\"], [0.6666666666666666, \"#ed7953\"], [0.7777777777777778, \"#fb9f3a\"], [0.8888888888888888, \"#fdca26\"], [1.0, \"#f0f921\"]], \"sequentialminus\": [[0.0, \"#0d0887\"], [0.1111111111111111, \"#46039f\"], [0.2222222222222222, \"#7201a8\"], [0.3333333333333333, \"#9c179e\"], [0.4444444444444444, \"#bd3786\"], [0.5555555555555556, \"#d8576b\"], [0.6666666666666666, \"#ed7953\"], [0.7777777777777778, \"#fb9f3a\"], [0.8888888888888888, \"#fdca26\"], [1.0, \"#f0f921\"]]}, \"colorway\": [\"#636efa\", \"#EF553B\", \"#00cc96\", \"#ab63fa\", \"#FFA15A\", \"#19d3f3\", \"#FF6692\", \"#B6E880\", \"#FF97FF\", \"#FECB52\"], \"font\": {\"color\": \"#2a3f5f\"}, \"geo\": {\"bgcolor\": \"white\", \"lakecolor\": \"white\", \"landcolor\": \"#E5ECF6\", \"showlakes\": true, \"showland\": true, \"subunitcolor\": \"white\"}, \"hoverlabel\": {\"align\": \"left\"}, \"hovermode\": \"closest\", \"mapbox\": {\"style\": \"light\"}, \"paper_bgcolor\": \"white\", \"plot_bgcolor\": \"#E5ECF6\", \"polar\": {\"angularaxis\": {\"gridcolor\": \"white\", \"linecolor\": \"white\", \"ticks\": \"\"}, \"bgcolor\": \"#E5ECF6\", \"radialaxis\": {\"gridcolor\": \"white\", \"linecolor\": \"white\", \"ticks\": \"\"}}, \"scene\": {\"xaxis\": {\"backgroundcolor\": \"#E5ECF6\", \"gridcolor\": \"white\", \"gridwidth\": 2, \"linecolor\": \"white\", \"showbackground\": true, \"ticks\": \"\", \"zerolinecolor\": \"white\"}, \"yaxis\": {\"backgroundcolor\": \"#E5ECF6\", \"gridcolor\": \"white\", \"gridwidth\": 2, \"linecolor\": \"white\", \"showbackground\": true, \"ticks\": \"\", \"zerolinecolor\": \"white\"}, \"zaxis\": {\"backgroundcolor\": \"#E5ECF6\", \"gridcolor\": \"white\", \"gridwidth\": 2, \"linecolor\": \"white\", \"showbackground\": true, \"ticks\": \"\", \"zerolinecolor\": \"white\"}}, \"shapedefaults\": {\"line\": {\"color\": \"#2a3f5f\"}}, \"ternary\": {\"aaxis\": {\"gridcolor\": \"white\", \"linecolor\": \"white\", \"ticks\": \"\"}, \"baxis\": {\"gridcolor\": \"white\", \"linecolor\": \"white\", \"ticks\": \"\"}, \"bgcolor\": \"#E5ECF6\", \"caxis\": {\"gridcolor\": \"white\", \"linecolor\": \"white\", \"ticks\": \"\"}}, \"title\": {\"x\": 0.05}, \"xaxis\": {\"automargin\": true, \"gridcolor\": \"white\", \"linecolor\": \"white\", \"ticks\": \"\", \"title\": {\"standoff\": 15}, \"zerolinecolor\": \"white\", \"zerolinewidth\": 2}, \"yaxis\": {\"automargin\": true, \"gridcolor\": \"white\", \"linecolor\": \"white\", \"ticks\": \"\", \"title\": {\"standoff\": 15}, \"zerolinecolor\": \"white\", \"zerolinewidth\": 2}}}, \"width\": 700, \"xaxis\": {\"anchor\": \"y\", \"domain\": [0.0, 0.49], \"title\": {\"text\": \"smoker\"}}, \"xaxis2\": {\"anchor\": \"y2\", \"domain\": [0.51, 1.0], \"matches\": \"x\", \"title\": {\"text\": \"smoker\"}}, \"yaxis\": {\"anchor\": \"x\", \"domain\": [0.0, 1.0], \"title\": {\"text\": \"count\"}}, \"yaxis2\": {\"anchor\": \"x2\", \"domain\": [0.0, 1.0], \"matches\": \"y\", \"showticklabels\": false}},\n",
              "                        {\"responsive\": true}\n",
              "                    ).then(function(){\n",
              "                            \n",
              "var gd = document.getElementById('e3f512e8-8f19-4b26-ac67-bef16dda886c');\n",
              "var x = new MutationObserver(function (mutations, observer) {{\n",
              "        var display = window.getComputedStyle(gd).display;\n",
              "        if (!display || display === 'none') {{\n",
              "            console.log([gd, 'removed!']);\n",
              "            Plotly.purge(gd);\n",
              "            observer.disconnect();\n",
              "        }}\n",
              "}});\n",
              "\n",
              "// Listen for the removal of the full notebook cells\n",
              "var notebookContainer = gd.closest('#notebook-container');\n",
              "if (notebookContainer) {{\n",
              "    x.observe(notebookContainer, {childList: true});\n",
              "}}\n",
              "\n",
              "// Listen for the clearing of the current output cell\n",
              "var outputEl = gd.closest('.output');\n",
              "if (outputEl) {{\n",
              "    x.observe(outputEl, {childList: true});\n",
              "}}\n",
              "\n",
              "                        })\n",
              "                };\n",
              "                \n",
              "            </script>\n",
              "        </div>\n",
              "</body>\n",
              "</html>"
            ]
          },
          "metadata": {
            "tags": []
          }
        }
      ]
    },
    {
      "cell_type": "code",
      "metadata": {
        "id": "73J84b-oS5Nc",
        "outputId": "6d86b376-f8b0-4b3e-f3ae-78177a44901a",
        "colab": {
          "base_uri": "https://localhost:8080/",
          "height": 417
        }
      },
      "source": [
        "df_dummies = pd.get_dummies(df, drop_first=True)\n",
        "df_dummies"
      ],
      "execution_count": null,
      "outputs": [
        {
          "output_type": "execute_result",
          "data": {
            "text/html": [
              "<div>\n",
              "<style scoped>\n",
              "    .dataframe tbody tr th:only-of-type {\n",
              "        vertical-align: middle;\n",
              "    }\n",
              "\n",
              "    .dataframe tbody tr th {\n",
              "        vertical-align: top;\n",
              "    }\n",
              "\n",
              "    .dataframe thead th {\n",
              "        text-align: right;\n",
              "    }\n",
              "</style>\n",
              "<table border=\"1\" class=\"dataframe\">\n",
              "  <thead>\n",
              "    <tr style=\"text-align: right;\">\n",
              "      <th></th>\n",
              "      <th>age</th>\n",
              "      <th>bmi</th>\n",
              "      <th>children</th>\n",
              "      <th>charges</th>\n",
              "      <th>sex_male</th>\n",
              "      <th>smoker_yes</th>\n",
              "      <th>region_northwest</th>\n",
              "      <th>region_southeast</th>\n",
              "      <th>region_southwest</th>\n",
              "    </tr>\n",
              "  </thead>\n",
              "  <tbody>\n",
              "    <tr>\n",
              "      <th>0</th>\n",
              "      <td>19</td>\n",
              "      <td>27.900</td>\n",
              "      <td>0</td>\n",
              "      <td>16884.92400</td>\n",
              "      <td>0</td>\n",
              "      <td>1</td>\n",
              "      <td>0</td>\n",
              "      <td>0</td>\n",
              "      <td>1</td>\n",
              "    </tr>\n",
              "    <tr>\n",
              "      <th>1</th>\n",
              "      <td>18</td>\n",
              "      <td>33.770</td>\n",
              "      <td>1</td>\n",
              "      <td>1725.55230</td>\n",
              "      <td>1</td>\n",
              "      <td>0</td>\n",
              "      <td>0</td>\n",
              "      <td>1</td>\n",
              "      <td>0</td>\n",
              "    </tr>\n",
              "    <tr>\n",
              "      <th>2</th>\n",
              "      <td>28</td>\n",
              "      <td>33.000</td>\n",
              "      <td>3</td>\n",
              "      <td>4449.46200</td>\n",
              "      <td>1</td>\n",
              "      <td>0</td>\n",
              "      <td>0</td>\n",
              "      <td>1</td>\n",
              "      <td>0</td>\n",
              "    </tr>\n",
              "    <tr>\n",
              "      <th>3</th>\n",
              "      <td>33</td>\n",
              "      <td>22.705</td>\n",
              "      <td>0</td>\n",
              "      <td>21984.47061</td>\n",
              "      <td>1</td>\n",
              "      <td>0</td>\n",
              "      <td>1</td>\n",
              "      <td>0</td>\n",
              "      <td>0</td>\n",
              "    </tr>\n",
              "    <tr>\n",
              "      <th>4</th>\n",
              "      <td>32</td>\n",
              "      <td>28.880</td>\n",
              "      <td>0</td>\n",
              "      <td>3866.85520</td>\n",
              "      <td>1</td>\n",
              "      <td>0</td>\n",
              "      <td>1</td>\n",
              "      <td>0</td>\n",
              "      <td>0</td>\n",
              "    </tr>\n",
              "    <tr>\n",
              "      <th>...</th>\n",
              "      <td>...</td>\n",
              "      <td>...</td>\n",
              "      <td>...</td>\n",
              "      <td>...</td>\n",
              "      <td>...</td>\n",
              "      <td>...</td>\n",
              "      <td>...</td>\n",
              "      <td>...</td>\n",
              "      <td>...</td>\n",
              "    </tr>\n",
              "    <tr>\n",
              "      <th>1333</th>\n",
              "      <td>50</td>\n",
              "      <td>30.970</td>\n",
              "      <td>3</td>\n",
              "      <td>10600.54830</td>\n",
              "      <td>1</td>\n",
              "      <td>0</td>\n",
              "      <td>1</td>\n",
              "      <td>0</td>\n",
              "      <td>0</td>\n",
              "    </tr>\n",
              "    <tr>\n",
              "      <th>1334</th>\n",
              "      <td>18</td>\n",
              "      <td>31.920</td>\n",
              "      <td>0</td>\n",
              "      <td>2205.98080</td>\n",
              "      <td>0</td>\n",
              "      <td>0</td>\n",
              "      <td>0</td>\n",
              "      <td>0</td>\n",
              "      <td>0</td>\n",
              "    </tr>\n",
              "    <tr>\n",
              "      <th>1335</th>\n",
              "      <td>18</td>\n",
              "      <td>36.850</td>\n",
              "      <td>0</td>\n",
              "      <td>1629.83350</td>\n",
              "      <td>0</td>\n",
              "      <td>0</td>\n",
              "      <td>0</td>\n",
              "      <td>1</td>\n",
              "      <td>0</td>\n",
              "    </tr>\n",
              "    <tr>\n",
              "      <th>1336</th>\n",
              "      <td>21</td>\n",
              "      <td>25.800</td>\n",
              "      <td>0</td>\n",
              "      <td>2007.94500</td>\n",
              "      <td>0</td>\n",
              "      <td>0</td>\n",
              "      <td>0</td>\n",
              "      <td>0</td>\n",
              "      <td>1</td>\n",
              "    </tr>\n",
              "    <tr>\n",
              "      <th>1337</th>\n",
              "      <td>61</td>\n",
              "      <td>29.070</td>\n",
              "      <td>0</td>\n",
              "      <td>29141.36030</td>\n",
              "      <td>0</td>\n",
              "      <td>1</td>\n",
              "      <td>1</td>\n",
              "      <td>0</td>\n",
              "      <td>0</td>\n",
              "    </tr>\n",
              "  </tbody>\n",
              "</table>\n",
              "<p>1337 rows × 9 columns</p>\n",
              "</div>"
            ],
            "text/plain": [
              "      age     bmi  ...  region_southeast  region_southwest\n",
              "0      19  27.900  ...                 0                 1\n",
              "1      18  33.770  ...                 1                 0\n",
              "2      28  33.000  ...                 1                 0\n",
              "3      33  22.705  ...                 0                 0\n",
              "4      32  28.880  ...                 0                 0\n",
              "...   ...     ...  ...               ...               ...\n",
              "1333   50  30.970  ...                 0                 0\n",
              "1334   18  31.920  ...                 0                 0\n",
              "1335   18  36.850  ...                 1                 0\n",
              "1336   21  25.800  ...                 0                 1\n",
              "1337   61  29.070  ...                 0                 0\n",
              "\n",
              "[1337 rows x 9 columns]"
            ]
          },
          "metadata": {
            "tags": []
          },
          "execution_count": 20
        }
      ]
    },
    {
      "cell_type": "code",
      "metadata": {
        "id": "zvXfhsl_TDYA",
        "outputId": "f4eba784-7f49-4b1d-ca71-e7782ded81c8",
        "colab": {
          "base_uri": "https://localhost:8080/",
          "height": 346
        }
      },
      "source": [
        "corr = df_dummies.corr()\n",
        "corr"
      ],
      "execution_count": null,
      "outputs": [
        {
          "output_type": "execute_result",
          "data": {
            "text/html": [
              "<div>\n",
              "<style scoped>\n",
              "    .dataframe tbody tr th:only-of-type {\n",
              "        vertical-align: middle;\n",
              "    }\n",
              "\n",
              "    .dataframe tbody tr th {\n",
              "        vertical-align: top;\n",
              "    }\n",
              "\n",
              "    .dataframe thead th {\n",
              "        text-align: right;\n",
              "    }\n",
              "</style>\n",
              "<table border=\"1\" class=\"dataframe\">\n",
              "  <thead>\n",
              "    <tr style=\"text-align: right;\">\n",
              "      <th></th>\n",
              "      <th>age</th>\n",
              "      <th>bmi</th>\n",
              "      <th>children</th>\n",
              "      <th>charges</th>\n",
              "      <th>sex_male</th>\n",
              "      <th>smoker_yes</th>\n",
              "      <th>region_northwest</th>\n",
              "      <th>region_southeast</th>\n",
              "      <th>region_southwest</th>\n",
              "    </tr>\n",
              "  </thead>\n",
              "  <tbody>\n",
              "    <tr>\n",
              "      <th>age</th>\n",
              "      <td>1.000000</td>\n",
              "      <td>0.109344</td>\n",
              "      <td>0.041536</td>\n",
              "      <td>0.298308</td>\n",
              "      <td>-0.019814</td>\n",
              "      <td>-0.025587</td>\n",
              "      <td>0.001495</td>\n",
              "      <td>-0.012311</td>\n",
              "      <td>0.009415</td>\n",
              "    </tr>\n",
              "    <tr>\n",
              "      <th>bmi</th>\n",
              "      <td>0.109344</td>\n",
              "      <td>1.000000</td>\n",
              "      <td>0.012755</td>\n",
              "      <td>0.198401</td>\n",
              "      <td>0.046397</td>\n",
              "      <td>0.003746</td>\n",
              "      <td>-0.136138</td>\n",
              "      <td>0.270057</td>\n",
              "      <td>-0.006211</td>\n",
              "    </tr>\n",
              "    <tr>\n",
              "      <th>children</th>\n",
              "      <td>0.041536</td>\n",
              "      <td>0.012755</td>\n",
              "      <td>1.000000</td>\n",
              "      <td>0.067389</td>\n",
              "      <td>0.017848</td>\n",
              "      <td>0.007331</td>\n",
              "      <td>0.026044</td>\n",
              "      <td>-0.023492</td>\n",
              "      <td>0.021538</td>\n",
              "    </tr>\n",
              "    <tr>\n",
              "      <th>charges</th>\n",
              "      <td>0.298308</td>\n",
              "      <td>0.198401</td>\n",
              "      <td>0.067389</td>\n",
              "      <td>1.000000</td>\n",
              "      <td>0.058044</td>\n",
              "      <td>0.787234</td>\n",
              "      <td>-0.038695</td>\n",
              "      <td>0.073578</td>\n",
              "      <td>-0.043637</td>\n",
              "    </tr>\n",
              "    <tr>\n",
              "      <th>sex_male</th>\n",
              "      <td>-0.019814</td>\n",
              "      <td>0.046397</td>\n",
              "      <td>0.017848</td>\n",
              "      <td>0.058044</td>\n",
              "      <td>1.000000</td>\n",
              "      <td>0.076596</td>\n",
              "      <td>-0.012482</td>\n",
              "      <td>0.017578</td>\n",
              "      <td>-0.003767</td>\n",
              "    </tr>\n",
              "    <tr>\n",
              "      <th>smoker_yes</th>\n",
              "      <td>-0.025587</td>\n",
              "      <td>0.003746</td>\n",
              "      <td>0.007331</td>\n",
              "      <td>0.787234</td>\n",
              "      <td>0.076596</td>\n",
              "      <td>1.000000</td>\n",
              "      <td>-0.036321</td>\n",
              "      <td>0.068282</td>\n",
              "      <td>-0.037168</td>\n",
              "    </tr>\n",
              "    <tr>\n",
              "      <th>region_northwest</th>\n",
              "      <td>0.001495</td>\n",
              "      <td>-0.136138</td>\n",
              "      <td>0.026044</td>\n",
              "      <td>-0.038695</td>\n",
              "      <td>-0.012482</td>\n",
              "      <td>-0.036321</td>\n",
              "      <td>1.000000</td>\n",
              "      <td>-0.345909</td>\n",
              "      <td>-0.320493</td>\n",
              "    </tr>\n",
              "    <tr>\n",
              "      <th>region_southeast</th>\n",
              "      <td>-0.012311</td>\n",
              "      <td>0.270057</td>\n",
              "      <td>-0.023492</td>\n",
              "      <td>0.073578</td>\n",
              "      <td>0.017578</td>\n",
              "      <td>0.068282</td>\n",
              "      <td>-0.345909</td>\n",
              "      <td>1.000000</td>\n",
              "      <td>-0.346614</td>\n",
              "    </tr>\n",
              "    <tr>\n",
              "      <th>region_southwest</th>\n",
              "      <td>0.009415</td>\n",
              "      <td>-0.006211</td>\n",
              "      <td>0.021538</td>\n",
              "      <td>-0.043637</td>\n",
              "      <td>-0.003767</td>\n",
              "      <td>-0.037168</td>\n",
              "      <td>-0.320493</td>\n",
              "      <td>-0.346614</td>\n",
              "      <td>1.000000</td>\n",
              "    </tr>\n",
              "  </tbody>\n",
              "</table>\n",
              "</div>"
            ],
            "text/plain": [
              "                       age       bmi  ...  region_southeast  region_southwest\n",
              "age               1.000000  0.109344  ...         -0.012311          0.009415\n",
              "bmi               0.109344  1.000000  ...          0.270057         -0.006211\n",
              "children          0.041536  0.012755  ...         -0.023492          0.021538\n",
              "charges           0.298308  0.198401  ...          0.073578         -0.043637\n",
              "sex_male         -0.019814  0.046397  ...          0.017578         -0.003767\n",
              "smoker_yes       -0.025587  0.003746  ...          0.068282         -0.037168\n",
              "region_northwest  0.001495 -0.136138  ...         -0.345909         -0.320493\n",
              "region_southeast -0.012311  0.270057  ...          1.000000         -0.346614\n",
              "region_southwest  0.009415 -0.006211  ...         -0.346614          1.000000\n",
              "\n",
              "[9 rows x 9 columns]"
            ]
          },
          "metadata": {
            "tags": []
          },
          "execution_count": 21
        }
      ]
    },
    {
      "cell_type": "code",
      "metadata": {
        "id": "HoK4kNbdUQvu",
        "outputId": "dbb0b57f-9711-4211-c824-9133ec3cbbc8",
        "colab": {
          "base_uri": "https://localhost:8080/",
          "height": 481
        }
      },
      "source": [
        "sns.set(style=\"white\")\n",
        "mask = np.zeros_like(corr, dtype=np.bool)\n",
        "mask[np.triu_indices_from(mask)] = True\n",
        "f, ax = plt.subplots(figsize=(8, 6))\n",
        "cmap = sns.diverging_palette(220, 10, as_cmap=True)\n",
        "sns.heatmap(corr, mask=mask, cmap=cmap, vmax=.3, center=0,\n",
        "            square=True, linewidths=.5, cbar_kws={\"shrink\": .5})"
      ],
      "execution_count": null,
      "outputs": [
        {
          "output_type": "execute_result",
          "data": {
            "text/plain": [
              "<matplotlib.axes._subplots.AxesSubplot at 0x7f1fdf4de5f8>"
            ]
          },
          "metadata": {
            "tags": []
          },
          "execution_count": 22
        },
        {
          "output_type": "display_data",
          "data": {
            "image/png": "[encoded data removed]",
            "text/plain": [
              "<Figure size 576x432 with 2 Axes>"
            ]
          },
          "metadata": {
            "tags": []
          }
        }
      ]
    },
    {
      "cell_type": "code",
      "metadata": {
        "id": "exJJ8EujT5H4",
        "outputId": "12c06b70-9377-4d93-a496-90f323a1b5c6",
        "colab": {
          "base_uri": "https://localhost:8080/",
          "height": 188
        }
      },
      "source": [
        "df_dummies.corr()['charges'].sort_values(ascending=False)"
      ],
      "execution_count": null,
      "outputs": [
        {
          "output_type": "execute_result",
          "data": {
            "text/plain": [
              "charges             1.000000\n",
              "smoker_yes          0.787234\n",
              "age                 0.298308\n",
              "bmi                 0.198401\n",
              "region_southeast    0.073578\n",
              "children            0.067389\n",
              "sex_male            0.058044\n",
              "region_northwest   -0.038695\n",
              "region_southwest   -0.043637\n",
              "Name: charges, dtype: float64"
            ]
          },
          "metadata": {
            "tags": []
          },
          "execution_count": 23
        }
      ]
    },
    {
      "cell_type": "code",
      "metadata": {
        "id": "mYXAdmCPUGRk",
        "outputId": "5e565d1e-d9fa-4009-ab6f-f6d91a6da8c6",
        "colab": {
          "base_uri": "https://localhost:8080/",
          "height": 285
        }
      },
      "source": [
        "sns.set()\n",
        "df_dummies.corr()['charges'].sort_values()[:-1].plot(kind='barh')"
      ],
      "execution_count": null,
      "outputs": [
        {
          "output_type": "execute_result",
          "data": {
            "text/plain": [
              "<matplotlib.axes._subplots.AxesSubplot at 0x7f1fe17dfc50>"
            ]
          },
          "metadata": {
            "tags": []
          },
          "execution_count": 24
        },
        {
          "output_type": "display_data",
          "data": {
            "image/png": "[encoded data removed]",
            "text/plain": [
              "<Figure size 432x288 with 1 Axes>"
            ]
          },
          "metadata": {
            "tags": []
          }
        }
      ]
    },
    {
      "cell_type": "code",
      "metadata": {
        "id": "XmjJE07IV6ks",
        "outputId": "a14c73ae-8b24-4c10-f3eb-f742bd4a58db",
        "colab": {
          "base_uri": "https://localhost:8080/",
          "height": 203
        }
      },
      "source": [
        "data = df_dummies.copy()\n",
        "target = data.pop('charges')\n",
        "data.head()"
      ],
      "execution_count": null,
      "outputs": [
        {
          "output_type": "execute_result",
          "data": {
            "text/html": [
              "<div>\n",
              "<style scoped>\n",
              "    .dataframe tbody tr th:only-of-type {\n",
              "        vertical-align: middle;\n",
              "    }\n",
              "\n",
              "    .dataframe tbody tr th {\n",
              "        vertical-align: top;\n",
              "    }\n",
              "\n",
              "    .dataframe thead th {\n",
              "        text-align: right;\n",
              "    }\n",
              "</style>\n",
              "<table border=\"1\" class=\"dataframe\">\n",
              "  <thead>\n",
              "    <tr style=\"text-align: right;\">\n",
              "      <th></th>\n",
              "      <th>age</th>\n",
              "      <th>bmi</th>\n",
              "      <th>children</th>\n",
              "      <th>sex_male</th>\n",
              "      <th>smoker_yes</th>\n",
              "      <th>region_northwest</th>\n",
              "      <th>region_southeast</th>\n",
              "      <th>region_southwest</th>\n",
              "    </tr>\n",
              "  </thead>\n",
              "  <tbody>\n",
              "    <tr>\n",
              "      <th>0</th>\n",
              "      <td>19</td>\n",
              "      <td>27.900</td>\n",
              "      <td>0</td>\n",
              "      <td>0</td>\n",
              "      <td>1</td>\n",
              "      <td>0</td>\n",
              "      <td>0</td>\n",
              "      <td>1</td>\n",
              "    </tr>\n",
              "    <tr>\n",
              "      <th>1</th>\n",
              "      <td>18</td>\n",
              "      <td>33.770</td>\n",
              "      <td>1</td>\n",
              "      <td>1</td>\n",
              "      <td>0</td>\n",
              "      <td>0</td>\n",
              "      <td>1</td>\n",
              "      <td>0</td>\n",
              "    </tr>\n",
              "    <tr>\n",
              "      <th>2</th>\n",
              "      <td>28</td>\n",
              "      <td>33.000</td>\n",
              "      <td>3</td>\n",
              "      <td>1</td>\n",
              "      <td>0</td>\n",
              "      <td>0</td>\n",
              "      <td>1</td>\n",
              "      <td>0</td>\n",
              "    </tr>\n",
              "    <tr>\n",
              "      <th>3</th>\n",
              "      <td>33</td>\n",
              "      <td>22.705</td>\n",
              "      <td>0</td>\n",
              "      <td>1</td>\n",
              "      <td>0</td>\n",
              "      <td>1</td>\n",
              "      <td>0</td>\n",
              "      <td>0</td>\n",
              "    </tr>\n",
              "    <tr>\n",
              "      <th>4</th>\n",
              "      <td>32</td>\n",
              "      <td>28.880</td>\n",
              "      <td>0</td>\n",
              "      <td>1</td>\n",
              "      <td>0</td>\n",
              "      <td>1</td>\n",
              "      <td>0</td>\n",
              "      <td>0</td>\n",
              "    </tr>\n",
              "  </tbody>\n",
              "</table>\n",
              "</div>"
            ],
            "text/plain": [
              "   age     bmi  children  ...  region_northwest  region_southeast  region_southwest\n",
              "0   19  27.900         0  ...                 0                 0                 1\n",
              "1   18  33.770         1  ...                 0                 1                 0\n",
              "2   28  33.000         3  ...                 0                 1                 0\n",
              "3   33  22.705         0  ...                 1                 0                 0\n",
              "4   32  28.880         0  ...                 1                 0                 0\n",
              "\n",
              "[5 rows x 8 columns]"
            ]
          },
          "metadata": {
            "tags": []
          },
          "execution_count": 25
        }
      ]
    },
    {
      "cell_type": "code",
      "metadata": {
        "id": "05YMFRxyWJeA",
        "outputId": "abed013b-11df-4d73-9b45-243e27703446",
        "colab": {
          "base_uri": "https://localhost:8080/",
          "height": 120
        }
      },
      "source": [
        "target.head()"
      ],
      "execution_count": null,
      "outputs": [
        {
          "output_type": "execute_result",
          "data": {
            "text/plain": [
              "0    16884.92400\n",
              "1     1725.55230\n",
              "2     4449.46200\n",
              "3    21984.47061\n",
              "4     3866.85520\n",
              "Name: charges, dtype: float64"
            ]
          },
          "metadata": {
            "tags": []
          },
          "execution_count": 26
        }
      ]
    },
    {
      "cell_type": "markdown",
      "metadata": {
        "id": "BlhPj-aBrMMa"
      },
      "source": [
        "### <a name='4'></a> Podział danych na zbiór treningowy i testowy"
      ]
    },
    {
      "cell_type": "code",
      "metadata": {
        "id": "p7PtOkS8VA1J",
        "outputId": "576fe5ef-a282-481b-eaad-75679324052d",
        "colab": {
          "base_uri": "https://localhost:8080/",
          "height": 86
        }
      },
      "source": [
        "from sklearn.model_selection import train_test_split\n",
        "\n",
        "X_train, X_test, y_train, y_test = train_test_split(data, target, test_size=0.2)\n",
        "\n",
        "print(f'X_trian shape: {X_train.shape}')\n",
        "print(f'X_test shape: {X_test.shape}')\n",
        "print(f'y_trian shape: {y_train.shape}')\n",
        "print(f'y_test shape: {y_test.shape}')"
      ],
      "execution_count": null,
      "outputs": [
        {
          "output_type": "stream",
          "text": [
            "X_trian shape: (1069, 8)\n",
            "X_test shape: (268, 8)\n",
            "y_trian shape: (1069,)\n",
            "y_test shape: (268,)\n"
          ],
          "name": "stdout"
        }
      ]
    },
    {
      "cell_type": "markdown",
      "metadata": {
        "id": "lHLmnPAVrY_P"
      },
      "source": [
        "### <a name='5'></a> Regresja liniowa"
      ]
    },
    {
      "cell_type": "code",
      "metadata": {
        "id": "tQK0TWRtWXvb",
        "outputId": "c7b8118b-87d2-43a2-d495-d1de0609272a",
        "colab": {
          "base_uri": "https://localhost:8080/",
          "height": 34
        }
      },
      "source": [
        "from sklearn.linear_model import LinearRegression\n",
        "\n",
        "regressor = LinearRegression()\n",
        "regressor.fit(X_train, y_train)"
      ],
      "execution_count": null,
      "outputs": [
        {
          "output_type": "execute_result",
          "data": {
            "text/plain": [
              "LinearRegression(copy_X=True, fit_intercept=True, n_jobs=None, normalize=False)"
            ]
          },
          "metadata": {
            "tags": []
          },
          "execution_count": 28
        }
      ]
    },
    {
      "cell_type": "code",
      "metadata": {
        "id": "9hP_SfyaWwlw",
        "outputId": "3c0f9290-750a-4e67-feb0-e4943158ec97",
        "colab": {
          "base_uri": "https://localhost:8080/",
          "height": 34
        }
      },
      "source": [
        "print(f'R2 score: {regressor.score(X_test, y_test):.4f}')"
      ],
      "execution_count": null,
      "outputs": [
        {
          "output_type": "stream",
          "text": [
            "R2 score: 0.8069\n"
          ],
          "name": "stdout"
        }
      ]
    },
    {
      "cell_type": "code",
      "metadata": {
        "id": "egKyObOFWzAa",
        "outputId": "54411931-d7bc-49ae-f35f-44f89238d93e",
        "colab": {
          "base_uri": "https://localhost:8080/",
          "height": 51
        }
      },
      "source": [
        "y_pred = regressor.predict(X_test)\n",
        "y_pred[:10]"
      ],
      "execution_count": null,
      "outputs": [
        {
          "output_type": "execute_result",
          "data": {
            "text/plain": [
              "array([ 8143.6939,  5737.1157, 14369.3149, 31745.5136,  8962.3867,\n",
              "       13149.7224, 30446.7607,  1453.2888, 10633.0184, 11318.9438])"
            ]
          },
          "metadata": {
            "tags": []
          },
          "execution_count": 30
        }
      ]
    },
    {
      "cell_type": "code",
      "metadata": {
        "id": "rb6659uKXE7C",
        "outputId": "c4c2061f-1f6c-4c4d-ce09-61d3e4c0de98",
        "colab": {
          "base_uri": "https://localhost:8080/",
          "height": 203
        }
      },
      "source": [
        "y_true = y_test.copy()\n",
        "predictions = pd.DataFrame(data={'y_true': y_true, 'y_pred': y_pred})\n",
        "predictions['error'] = predictions['y_true'] -  predictions['y_pred']\n",
        "predictions.head()"
      ],
      "execution_count": null,
      "outputs": [
        {
          "output_type": "execute_result",
          "data": {
            "text/html": [
              "<div>\n",
              "<style scoped>\n",
              "    .dataframe tbody tr th:only-of-type {\n",
              "        vertical-align: middle;\n",
              "    }\n",
              "\n",
              "    .dataframe tbody tr th {\n",
              "        vertical-align: top;\n",
              "    }\n",
              "\n",
              "    .dataframe thead th {\n",
              "        text-align: right;\n",
              "    }\n",
              "</style>\n",
              "<table border=\"1\" class=\"dataframe\">\n",
              "  <thead>\n",
              "    <tr style=\"text-align: right;\">\n",
              "      <th></th>\n",
              "      <th>y_true</th>\n",
              "      <th>y_pred</th>\n",
              "      <th>error</th>\n",
              "    </tr>\n",
              "  </thead>\n",
              "  <tbody>\n",
              "    <tr>\n",
              "      <th>900</th>\n",
              "      <td>8688.85885</td>\n",
              "      <td>8143.693884</td>\n",
              "      <td>545.164966</td>\n",
              "    </tr>\n",
              "    <tr>\n",
              "      <th>1064</th>\n",
              "      <td>5708.86700</td>\n",
              "      <td>5737.115683</td>\n",
              "      <td>-28.248683</td>\n",
              "    </tr>\n",
              "    <tr>\n",
              "      <th>1256</th>\n",
              "      <td>11436.73815</td>\n",
              "      <td>14369.314876</td>\n",
              "      <td>-2932.576726</td>\n",
              "    </tr>\n",
              "    <tr>\n",
              "      <th>298</th>\n",
              "      <td>38746.35510</td>\n",
              "      <td>31745.513636</td>\n",
              "      <td>7000.841464</td>\n",
              "    </tr>\n",
              "    <tr>\n",
              "      <th>237</th>\n",
              "      <td>4463.20510</td>\n",
              "      <td>8962.386657</td>\n",
              "      <td>-4499.181557</td>\n",
              "    </tr>\n",
              "  </tbody>\n",
              "</table>\n",
              "</div>"
            ],
            "text/plain": [
              "           y_true        y_pred        error\n",
              "900    8688.85885   8143.693884   545.164966\n",
              "1064   5708.86700   5737.115683   -28.248683\n",
              "1256  11436.73815  14369.314876 -2932.576726\n",
              "298   38746.35510  31745.513636  7000.841464\n",
              "237    4463.20510   8962.386657 -4499.181557"
            ]
          },
          "metadata": {
            "tags": []
          },
          "execution_count": 31
        }
      ]
    },
    {
      "cell_type": "code",
      "metadata": {
        "id": "BjeBsAK8XYUy",
        "outputId": "ff9dd5a6-e41a-42a6-a75c-461db42b88e0",
        "colab": {
          "base_uri": "https://localhost:8080/",
          "height": 285
        }
      },
      "source": [
        "predictions.error.plot(kind='hist', bins=30)"
      ],
      "execution_count": null,
      "outputs": [
        {
          "output_type": "execute_result",
          "data": {
            "text/plain": [
              "<matplotlib.axes._subplots.AxesSubplot at 0x7f1fd8b05ac8>"
            ]
          },
          "metadata": {
            "tags": []
          },
          "execution_count": 32
        },
        {
          "output_type": "display_data",
          "data": {
            "image/png": "[encoded data removed]",
            "text/plain": [
              "<Figure size 432x288 with 1 Axes>"
            ]
          },
          "metadata": {
            "tags": []
          }
        }
      ]
    },
    {
      "cell_type": "code",
      "metadata": {
        "id": "gE4oWsprX7_8",
        "outputId": "1ce612bc-64e0-482f-d68e-71b482e47c96",
        "colab": {
          "base_uri": "https://localhost:8080/",
          "height": 34
        }
      },
      "source": [
        "from sklearn.metrics import mean_absolute_error\n",
        "\n",
        "mae = mean_absolute_error(y_true, y_pred)\n",
        "print(f'MAE wynosi: {mae:.2f}')"
      ],
      "execution_count": null,
      "outputs": [
        {
          "output_type": "stream",
          "text": [
            "MAE wynosi: 4177.05\n"
          ],
          "name": "stdout"
        }
      ]
    },
    {
      "cell_type": "code",
      "metadata": {
        "id": "UVK5P7cqYZ4F",
        "outputId": "d7eb1267-9609-473d-b994-60fe5a8a0a47",
        "colab": {
          "base_uri": "https://localhost:8080/",
          "height": 34
        }
      },
      "source": [
        "regressor.intercept_"
      ],
      "execution_count": null,
      "outputs": [
        {
          "output_type": "execute_result",
          "data": {
            "text/plain": [
              "-11092.65229594595"
            ]
          },
          "metadata": {
            "tags": []
          },
          "execution_count": 34
        }
      ]
    },
    {
      "cell_type": "code",
      "metadata": {
        "id": "Q2LMbNuIY3A4",
        "outputId": "d8fcc56c-9868-4da0-c947-5f6ca73ef675",
        "colab": {
          "base_uri": "https://localhost:8080/",
          "height": 51
        }
      },
      "source": [
        "regressor.coef_"
      ],
      "execution_count": null,
      "outputs": [
        {
          "output_type": "execute_result",
          "data": {
            "text/plain": [
              "array([  248.2107,   318.7014,   533.01  ,  -101.5421, 23077.7646,\n",
              "        -391.7615,  -838.9196,  -659.1398])"
            ]
          },
          "metadata": {
            "tags": []
          },
          "execution_count": 35
        }
      ]
    },
    {
      "cell_type": "code",
      "metadata": {
        "id": "lOXb32c8Y5B4",
        "outputId": "07b5b5d3-8804-4f42-c434-ffc053216d0d",
        "colab": {
          "base_uri": "https://localhost:8080/",
          "height": 68
        }
      },
      "source": [
        "data.columns"
      ],
      "execution_count": null,
      "outputs": [
        {
          "output_type": "execute_result",
          "data": {
            "text/plain": [
              "Index(['age', 'bmi', 'children', 'sex_male', 'smoker_yes', 'region_northwest',\n",
              "       'region_southeast', 'region_southwest'],\n",
              "      dtype='object')"
            ]
          },
          "metadata": {
            "tags": []
          },
          "execution_count": 36
        }
      ]
    },
    {
      "cell_type": "markdown",
      "metadata": {
        "id": "GVydVDdWhyZL"
      },
      "source": [
        "### <a name='6'></a> Dobór cech modelu - eliminacja wsteczna"
      ]
    },
    {
      "cell_type": "code",
      "metadata": {
        "id": "p3xHclBHZHRU",
        "outputId": "44c6d69c-af60-4271-fde0-e51882b42118",
        "colab": {
          "base_uri": "https://localhost:8080/",
          "height": 137
        }
      },
      "source": [
        "import statsmodels.api as sm\n",
        "\n",
        "X_train_ols = X_train.copy()\n",
        "X_train_ols = X_train_ols.values\n",
        "X_train_ols = sm.add_constant(X_train_ols)\n",
        "X_train_ols"
      ],
      "execution_count": null,
      "outputs": [
        {
          "output_type": "execute_result",
          "data": {
            "text/plain": [
              "array([[ 1.   , 23.   , 24.51 , ...,  0.   ,  0.   ,  0.   ],\n",
              "       [ 1.   , 21.   , 25.745, ...,  0.   ,  0.   ,  0.   ],\n",
              "       [ 1.   , 52.   , 37.525, ...,  1.   ,  0.   ,  0.   ],\n",
              "       ...,\n",
              "       [ 1.   , 20.   , 22.   , ...,  0.   ,  0.   ,  1.   ],\n",
              "       [ 1.   , 38.   , 28.   , ...,  0.   ,  0.   ,  1.   ],\n",
              "       [ 1.   , 35.   , 35.86 , ...,  0.   ,  1.   ,  0.   ]])"
            ]
          },
          "metadata": {
            "tags": []
          },
          "execution_count": 37
        }
      ]
    },
    {
      "cell_type": "code",
      "metadata": {
        "id": "i9oGrN1qh6A2",
        "outputId": "8e09c3fb-eb1e-448b-ea4f-1f45a16ed700",
        "colab": {
          "base_uri": "https://localhost:8080/",
          "height": 566
        }
      },
      "source": [
        "ols = sm.OLS(endog=y_train, exog=X_train_ols).fit()\n",
        "predictors = ['const'] + list(X_train.columns)\n",
        "print(ols.summary(xname=predictors))"
      ],
      "execution_count": null,
      "outputs": [
        {
          "output_type": "stream",
          "text": [
            "                            OLS Regression Results                            \n",
            "==============================================================================\n",
            "Dep. Variable:                charges   R-squared:                       0.730\n",
            "Model:                            OLS   Adj. R-squared:                  0.728\n",
            "Method:                 Least Squares   F-statistic:                     358.1\n",
            "Date:                Mon, 27 Jan 2020   Prob (F-statistic):          4.94e-295\n",
            "Time:                        10:55:56   Log-Likelihood:                -10831.\n",
            "No. Observations:                1069   AIC:                         2.168e+04\n",
            "Df Residuals:                    1060   BIC:                         2.172e+04\n",
            "Df Model:                           8                                         \n",
            "Covariance Type:            nonrobust                                         \n",
            "====================================================================================\n",
            "                       coef    std err          t      P>|t|      [0.025      0.975]\n",
            "------------------------------------------------------------------------------------\n",
            "const            -1.109e+04   1114.260     -9.955      0.000   -1.33e+04   -8906.246\n",
            "age                248.2107     13.507     18.376      0.000     221.707     274.715\n",
            "bmi                318.7014     32.543      9.793      0.000     254.845     382.558\n",
            "children           533.0100    156.796      3.399      0.001     225.344     840.676\n",
            "sex_male          -101.5421    375.787     -0.270      0.787    -838.914     635.829\n",
            "smoker_yes        2.308e+04    471.030     48.994      0.000    2.22e+04     2.4e+04\n",
            "region_northwest  -391.7615    537.999     -0.728      0.467   -1447.426     663.903\n",
            "region_southeast  -838.9196    546.101     -1.536      0.125   -1910.481     232.641\n",
            "region_southwest  -659.1398    539.459     -1.222      0.222   -1717.668     399.388\n",
            "==============================================================================\n",
            "Omnibus:                      266.561   Durbin-Watson:                   1.966\n",
            "Prob(Omnibus):                  0.000   Jarque-Bera (JB):              642.069\n",
            "Skew:                           1.330   Prob(JB):                    3.77e-140\n",
            "Kurtosis:                       5.710   Cond. No.                         311.\n",
            "==============================================================================\n",
            "\n",
            "Warnings:\n",
            "[1] Standard Errors assume that the covariance matrix of the errors is correctly specified.\n"
          ],
          "name": "stdout"
        }
      ]
    },
    {
      "cell_type": "code",
      "metadata": {
        "id": "JUKi9jlDh7xL",
        "outputId": "de6fc708-a223-4cb6-d380-01262122993e",
        "colab": {
          "base_uri": "https://localhost:8080/",
          "height": 548
        }
      },
      "source": [
        "X_selected = X_train_ols[:, [0, 1, 2, 3, 5, 6, 7, 8]]\n",
        "predictors.remove('sex_male')\n",
        "\n",
        "ols = sm.OLS(endog=y_train, exog=X_selected).fit()\n",
        "print(ols.summary(xname=predictors))"
      ],
      "execution_count": null,
      "outputs": [
        {
          "output_type": "stream",
          "text": [
            "                            OLS Regression Results                            \n",
            "==============================================================================\n",
            "Dep. Variable:                charges   R-squared:                       0.730\n",
            "Model:                            OLS   Adj. R-squared:                  0.728\n",
            "Method:                 Least Squares   F-statistic:                     409.6\n",
            "Date:                Mon, 27 Jan 2020   Prob (F-statistic):          2.44e-296\n",
            "Time:                        11:05:31   Log-Likelihood:                -10831.\n",
            "No. Observations:                1069   AIC:                         2.168e+04\n",
            "Df Residuals:                    1061   BIC:                         2.172e+04\n",
            "Df Model:                           7                                         \n",
            "Covariance Type:            nonrobust                                         \n",
            "====================================================================================\n",
            "                       coef    std err          t      P>|t|      [0.025      0.975]\n",
            "------------------------------------------------------------------------------------\n",
            "const            -1.113e+04   1102.801    -10.097      0.000   -1.33e+04   -8970.891\n",
            "age                248.3291     13.494     18.402      0.000     221.850     274.808\n",
            "bmi                318.2418     32.485      9.797      0.000     254.500     381.983\n",
            "children           533.0663    156.728      3.401      0.001     225.535     840.598\n",
            "smoker_yes        2.307e+04    469.131     49.170      0.000    2.21e+04     2.4e+04\n",
            "region_northwest  -392.5326    537.756     -0.730      0.466   -1447.719     662.654\n",
            "region_southeast  -835.7955    545.740     -1.531      0.126   -1906.647     235.056\n",
            "region_southwest  -656.0584    539.102     -1.217      0.224   -1713.886     401.770\n",
            "==============================================================================\n",
            "Omnibus:                      266.747   Durbin-Watson:                   1.967\n",
            "Prob(Omnibus):                  0.000   Jarque-Bera (JB):              642.968\n",
            "Skew:                           1.330   Prob(JB):                    2.41e-140\n",
            "Kurtosis:                       5.712   Cond. No.                         308.\n",
            "==============================================================================\n",
            "\n",
            "Warnings:\n",
            "[1] Standard Errors assume that the covariance matrix of the errors is correctly specified.\n"
          ],
          "name": "stdout"
        }
      ]
    },
    {
      "cell_type": "code",
      "metadata": {
        "id": "cckY_qTQh9fR",
        "outputId": "e7ee3776-4c6e-4f4c-e96c-a68c937f64dc",
        "colab": {
          "base_uri": "https://localhost:8080/",
          "height": 531
        }
      },
      "source": [
        "X_selected = X_train_ols[:, [0, 1, 2, 3, 5, 7, 8]]\n",
        "predictors.remove('region_northwest')\n",
        "\n",
        "ols = sm.OLS(endog=y_train, exog=X_selected).fit()\n",
        "print(ols.summary(xname=predictors))"
      ],
      "execution_count": null,
      "outputs": [
        {
          "output_type": "stream",
          "text": [
            "                            OLS Regression Results                            \n",
            "==============================================================================\n",
            "Dep. Variable:                charges   R-squared:                       0.730\n",
            "Model:                            OLS   Adj. R-squared:                  0.728\n",
            "Method:                 Least Squares   F-statistic:                     478.0\n",
            "Date:                Mon, 27 Jan 2020   Prob (F-statistic):          1.40e-297\n",
            "Time:                        11:06:12   Log-Likelihood:                -10831.\n",
            "No. Observations:                1069   AIC:                         2.168e+04\n",
            "Df Residuals:                    1062   BIC:                         2.171e+04\n",
            "Df Model:                           6                                         \n",
            "Covariance Type:            nonrobust                                         \n",
            "====================================================================================\n",
            "                       coef    std err          t      P>|t|      [0.025      0.975]\n",
            "------------------------------------------------------------------------------------\n",
            "const            -1.132e+04   1072.467    -10.557      0.000   -1.34e+04   -9217.200\n",
            "age                248.4224     13.491     18.414      0.000     221.951     274.894\n",
            "bmi                317.6363     32.467      9.783      0.000     253.930     381.343\n",
            "children           531.0554    156.669      3.390      0.001     223.640     838.471\n",
            "smoker_yes        2.308e+04    468.649     49.250      0.000    2.22e+04     2.4e+04\n",
            "region_southeast  -633.8835    470.340     -1.348      0.178   -1556.785     289.018\n",
            "region_southwest  -454.7878    463.150     -0.982      0.326   -1363.580     454.005\n",
            "==============================================================================\n",
            "Omnibus:                      266.297   Durbin-Watson:                   1.969\n",
            "Prob(Omnibus):                  0.000   Jarque-Bera (JB):              640.848\n",
            "Skew:                           1.329   Prob(JB):                    6.94e-140\n",
            "Kurtosis:                       5.706   Cond. No.                         295.\n",
            "==============================================================================\n",
            "\n",
            "Warnings:\n",
            "[1] Standard Errors assume that the covariance matrix of the errors is correctly specified.\n"
          ],
          "name": "stdout"
        }
      ]
    },
    {
      "cell_type": "code",
      "metadata": {
        "id": "8I5DSFvvh_CR",
        "outputId": "c9ce3402-1cad-4693-dabe-e06708467c1f",
        "colab": {
          "base_uri": "https://localhost:8080/",
          "height": 514
        }
      },
      "source": [
        "X_selected = X_train_ols[:, [0, 1, 2, 3, 5, 7]]\n",
        "predictors.remove('region_southwest')\n",
        "\n",
        "ols = sm.OLS(endog=y_train, exog=X_selected).fit()\n",
        "print(ols.summary(xname=predictors))"
      ],
      "execution_count": null,
      "outputs": [
        {
          "output_type": "stream",
          "text": [
            "                            OLS Regression Results                            \n",
            "==============================================================================\n",
            "Dep. Variable:                charges   R-squared:                       0.730\n",
            "Model:                            OLS   Adj. R-squared:                  0.728\n",
            "Method:                 Least Squares   F-statistic:                     573.4\n",
            "Date:                Mon, 27 Jan 2020   Prob (F-statistic):          8.97e-299\n",
            "Time:                        11:06:29   Log-Likelihood:                -10832.\n",
            "No. Observations:                1069   AIC:                         2.168e+04\n",
            "Df Residuals:                    1063   BIC:                         2.171e+04\n",
            "Df Model:                           5                                         \n",
            "Covariance Type:            nonrobust                                         \n",
            "====================================================================================\n",
            "                       coef    std err          t      P>|t|      [0.025      0.975]\n",
            "------------------------------------------------------------------------------------\n",
            "const            -1.139e+04   1069.862    -10.651      0.000   -1.35e+04   -9295.409\n",
            "age                248.4526     13.490     18.417      0.000     221.982     274.924\n",
            "bmi                314.7207     32.330      9.735      0.000     251.282     378.159\n",
            "children           534.0548    156.637      3.410      0.001     226.703     841.407\n",
            "smoker_yes        2.308e+04    468.626     49.260      0.000    2.22e+04     2.4e+04\n",
            "region_southeast  -469.1823    439.409     -1.068      0.286   -1331.390     393.025\n",
            "==============================================================================\n",
            "Omnibus:                      267.310   Durbin-Watson:                   1.972\n",
            "Prob(Omnibus):                  0.000   Jarque-Bera (JB):              644.889\n",
            "Skew:                           1.333   Prob(JB):                    9.21e-141\n",
            "Kurtosis:                       5.716   Cond. No.                         294.\n",
            "==============================================================================\n",
            "\n",
            "Warnings:\n",
            "[1] Standard Errors assume that the covariance matrix of the errors is correctly specified.\n"
          ],
          "name": "stdout"
        }
      ]
    },
    {
      "cell_type": "code",
      "metadata": {
        "id": "QDA6p-kHiAhB",
        "outputId": "6cce4801-8cb9-477a-ee69-c5b22b2ff957",
        "colab": {
          "base_uri": "https://localhost:8080/",
          "height": 497
        }
      },
      "source": [
        "X_selected = X_train_ols[:, [0, 1, 2, 3, 5]]\n",
        "predictors.remove('region_southeast')\n",
        "\n",
        "ols = sm.OLS(endog=y_train, exog=X_selected).fit()\n",
        "print(ols.summary(xname=predictors))"
      ],
      "execution_count": null,
      "outputs": [
        {
          "output_type": "stream",
          "text": [
            "                            OLS Regression Results                            \n",
            "==============================================================================\n",
            "Dep. Variable:                charges   R-squared:                       0.729\n",
            "Model:                            OLS   Adj. R-squared:                  0.728\n",
            "Method:                 Least Squares   F-statistic:                     716.3\n",
            "Date:                Mon, 27 Jan 2020   Prob (F-statistic):          5.56e-300\n",
            "Time:                        11:06:45   Log-Likelihood:                -10832.\n",
            "No. Observations:                1069   AIC:                         2.167e+04\n",
            "Df Residuals:                    1064   BIC:                         2.170e+04\n",
            "Df Model:                           4                                         \n",
            "Covariance Type:            nonrobust                                         \n",
            "==============================================================================\n",
            "                 coef    std err          t      P>|t|      [0.025      0.975]\n",
            "------------------------------------------------------------------------------\n",
            "const      -1.126e+04   1062.104    -10.599      0.000   -1.33e+04   -9172.693\n",
            "age          249.1913     13.474     18.495      0.000     222.753     275.629\n",
            "bmi          305.2674     31.097      9.817      0.000     244.250     366.285\n",
            "children     537.9722    156.604      3.435      0.001     230.685     845.260\n",
            "smoker_yes  2.304e+04    467.005     49.341      0.000    2.21e+04     2.4e+04\n",
            "==============================================================================\n",
            "Omnibus:                      265.622   Durbin-Watson:                   1.971\n",
            "Prob(Omnibus):                  0.000   Jarque-Bera (JB):              638.039\n",
            "Skew:                           1.326   Prob(JB):                    2.83e-139\n",
            "Kurtosis:                       5.700   Cond. No.                         292.\n",
            "==============================================================================\n",
            "\n",
            "Warnings:\n",
            "[1] Standard Errors assume that the covariance matrix of the errors is correctly specified.\n"
          ],
          "name": "stdout"
        }
      ]
    },
    {
      "cell_type": "markdown",
      "metadata": {
        "id": "Qa5TRyDNiCu4"
      },
      "source": [
        "### <a name='7'></a> Eliminacja wsteczna - automatyzacja"
      ]
    },
    {
      "cell_type": "code",
      "metadata": {
        "id": "ei6-ZHctiDJ-",
        "outputId": "5de443d1-89fd-49f6-ea00-cb00fd277805",
        "colab": {
          "base_uri": "https://localhost:8080/",
          "height": 497
        }
      },
      "source": [
        "X_train_numpy = X_train.values\n",
        "X_train_numpy = sm.add_constant(X_train_numpy)\n",
        "num_vars = len(X_train_numpy[0])\n",
        "\n",
        "predictors = ['const'] + list(X_train.columns)\n",
        "sl = 0.05\n",
        "\n",
        "for i in range(0, num_vars):\n",
        "    ols = sm.OLS(endog=y_train, exog=X_train_numpy).fit()\n",
        "    max_pval = max(ols.pvalues.astype('float'))\n",
        "    if max_pval > sl:\n",
        "        for j in range(0, num_vars - i):\n",
        "            if ols.pvalues[j].astype('float') == max_pval:\n",
        "                X_train_numpy = np.delete(X_train_numpy, j, axis=1)\n",
        "                predictors.remove(predictors[j])\n",
        "\n",
        "print(ols.summary(xname=predictors))"
      ],
      "execution_count": null,
      "outputs": [
        {
          "output_type": "stream",
          "text": [
            "                            OLS Regression Results                            \n",
            "==============================================================================\n",
            "Dep. Variable:                charges   R-squared:                       0.729\n",
            "Model:                            OLS   Adj. R-squared:                  0.728\n",
            "Method:                 Least Squares   F-statistic:                     716.3\n",
            "Date:                Mon, 27 Jan 2020   Prob (F-statistic):          5.56e-300\n",
            "Time:                        11:11:49   Log-Likelihood:                -10832.\n",
            "No. Observations:                1069   AIC:                         2.167e+04\n",
            "Df Residuals:                    1064   BIC:                         2.170e+04\n",
            "Df Model:                           4                                         \n",
            "Covariance Type:            nonrobust                                         \n",
            "==============================================================================\n",
            "                 coef    std err          t      P>|t|      [0.025      0.975]\n",
            "------------------------------------------------------------------------------\n",
            "const      -1.126e+04   1062.104    -10.599      0.000   -1.33e+04   -9172.693\n",
            "age          249.1913     13.474     18.495      0.000     222.753     275.629\n",
            "bmi          305.2674     31.097      9.817      0.000     244.250     366.285\n",
            "children     537.9722    156.604      3.435      0.001     230.685     845.260\n",
            "smoker_yes  2.304e+04    467.005     49.341      0.000    2.21e+04     2.4e+04\n",
            "==============================================================================\n",
            "Omnibus:                      265.622   Durbin-Watson:                   1.971\n",
            "Prob(Omnibus):                  0.000   Jarque-Bera (JB):              638.039\n",
            "Skew:                           1.326   Prob(JB):                    2.83e-139\n",
            "Kurtosis:                       5.700   Cond. No.                         292.\n",
            "==============================================================================\n",
            "\n",
            "Warnings:\n",
            "[1] Standard Errors assume that the covariance matrix of the errors is correctly specified.\n"
          ],
          "name": "stdout"
        }
      ]
    },
    {
      "cell_type": "markdown",
      "metadata": {
        "id": "Pu1Pqda3iHmq"
      },
      "source": [
        "### <a name='8'></a> Zapisanie końcowego modelu"
      ]
    },
    {
      "cell_type": "code",
      "metadata": {
        "id": "8XGgEZARiIB6"
      },
      "source": [
        "ols.save('model.pickle')"
      ],
      "execution_count": null,
      "outputs": []
    },
    {
      "cell_type": "code",
      "metadata": {
        "id": "d8UhQlxwtFh_"
      },
      "source": [],
      "execution_count": null,
      "outputs": []
    }
  ]
}